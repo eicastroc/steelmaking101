{
 "cells": [
  {
   "cell_type": "markdown",
   "metadata": {},
   "source": [
    "# Iniciación en Python con Aplicaciones en Aceración (día 01)\n",
    "\n",
    "**Dr. Edgar Ivan Castro Cedeño**\n",
    "\n",
    "[edgar.castro@cinvestav.mx](mailto:edgar.castro@cinvestav.mx)"
   ]
  },
  {
   "cell_type": "markdown",
   "metadata": {},
   "source": [
    "# 3. Numpy"
   ]
  },
  {
   "cell_type": "markdown",
   "metadata": {},
   "source": [
    "## 3.1 Importar Numpy"
   ]
  },
  {
   "cell_type": "markdown",
   "metadata": {},
   "source": [
    "Para utilizar la librería `numpy`, se requiere importarla al programa. Por convención, el módulo `numpy` se importa utilizando el álias `np`."
   ]
  },
  {
   "cell_type": "code",
   "execution_count": 1,
   "metadata": {},
   "outputs": [],
   "source": [
    "import numpy as np"
   ]
  },
  {
   "cell_type": "markdown",
   "metadata": {},
   "source": [
    "## 3.2 Objeto Numpy Array"
   ]
  },
  {
   "cell_type": "markdown",
   "metadata": {},
   "source": [
    "### 3.2.1 Atributos"
   ]
  },
  {
   "cell_type": "markdown",
   "metadata": {},
   "source": [
    "Una parte fundamental de la librería `numpy` son las estructuras de datos que representan arreglos multidimensionales con datos homogéneos, i.e., todos los elementos en el arreglo tienen el mismo tipo de dato."
   ]
  },
  {
   "cell_type": "markdown",
   "metadata": {},
   "source": [
    "La estructura principal para un arreglo multidimensional en `numpy` es la clase `ndarray`. Además de contenter los datos del arreglo, esta estructura también contiene metadatos, tales como la forma, el tamaño, el tipo de datos, y otros atributos.\n",
    "\n",
    "\n",
    "| Atributo | Descripción |\n",
    "|----------|-----------------------|\n",
    "| `Shape`  | Un tuple que contiene el número de elementos (i.e., la longitud) para cada dimensión (eje) del arreglo. |\n",
    "| `Size`   | Número total de elementos en el arreglo. |\n",
    "| `Ndim`   | Número de dimensions (ejes). |\n",
    "| `nbytes` | Número de bytes utilizados para almacenar los datos. |\n",
    "| `dtype`  | El tipo de datos de los elementos en el arreglo. |"
   ]
  },
  {
   "cell_type": "code",
   "execution_count": 71,
   "metadata": {},
   "outputs": [],
   "source": [
    "data = np.array([[1, 2], [3, 4], [5, 6]])"
   ]
  },
  {
   "cell_type": "code",
   "execution_count": 72,
   "metadata": {},
   "outputs": [
    {
     "data": {
      "text/plain": [
       "numpy.ndarray"
      ]
     },
     "execution_count": 72,
     "metadata": {},
     "output_type": "execute_result"
    }
   ],
   "source": [
    "type(data)"
   ]
  },
  {
   "cell_type": "code",
   "execution_count": 3,
   "metadata": {},
   "outputs": [],
   "source": [
    "def info_array(data):\n",
    "    print(data)\n",
    "    print(type(data))\n",
    "    print(\"data.ndim: \", data.ndim)\n",
    "    print(\"data.shape: \", data.shape)\n",
    "    print(\"data.size: \", data.size)\n",
    "    print(\"data.dtype: \", data.dtype)\n",
    "    print(\"data.nbytes:\", data.nbytes)"
   ]
  },
  {
   "cell_type": "code",
   "execution_count": 4,
   "metadata": {},
   "outputs": [
    {
     "name": "stdout",
     "output_type": "stream",
     "text": [
      "[[1 2]\n",
      " [3 4]\n",
      " [5 6]]\n",
      "<class 'numpy.ndarray'>\n",
      "data.ndim:  2\n",
      "data.shape:  (3, 2)\n",
      "data.size:  6\n",
      "data.dtype:  int64\n",
      "data.nbytes: 48\n"
     ]
    }
   ],
   "source": [
    "info_array(data)"
   ]
  },
  {
   "cell_type": "markdown",
   "metadata": {},
   "source": [
    "### 3.2.2 Creación de Arrays"
   ]
  },
  {
   "cell_type": "markdown",
   "metadata": {},
   "source": [
    "#### 3.2.2.1 Arrays generales"
   ]
  },
  {
   "cell_type": "markdown",
   "metadata": {},
   "source": [
    "Los arrays se crean a partir de listas u otras estructuras similares."
   ]
  },
  {
   "cell_type": "code",
   "execution_count": 5,
   "metadata": {},
   "outputs": [
    {
     "name": "stdout",
     "output_type": "stream",
     "text": [
      "[1 2 3 4]\n",
      "<class 'numpy.ndarray'>\n",
      "data.ndim:  1\n",
      "data.shape:  (4,)\n",
      "data.size:  4\n",
      "data.dtype:  int64\n",
      "data.nbytes: 32\n"
     ]
    }
   ],
   "source": [
    "# array de una dimensión (declarado a partir de una lista)\n",
    "data = np.array([1, 2, 3, 4])\n",
    "info_array(data)"
   ]
  },
  {
   "cell_type": "code",
   "execution_count": 74,
   "metadata": {},
   "outputs": [
    {
     "name": "stdout",
     "output_type": "stream",
     "text": [
      "[[1 2]\n",
      " [3 4]]\n",
      "<class 'numpy.ndarray'>\n",
      "data.ndim:  2\n",
      "data.shape:  (2, 2)\n",
      "data.size:  4\n",
      "data.dtype:  int64\n",
      "data.nbytes: 32\n"
     ]
    }
   ],
   "source": [
    "# array de dos dimensiones (declarado a partir de una lista anidada)\n",
    "data = np.array([[1, 2], [3, 4]])\n",
    "info_array(data)"
   ]
  },
  {
   "cell_type": "markdown",
   "metadata": {},
   "source": [
    "#### 3.2.2.2 Arrays con valores constantes"
   ]
  },
  {
   "cell_type": "markdown",
   "metadata": {},
   "source": [
    "Las funciones `np.zeros()` y `np.ones()` sirven para crear arrays llenos de ceros o unos, respectivamente. Toman como argumento un entero `int` o un tuple `tuple` que describe el número de elementos a lo largo de cada dimensión en el arreglo. Estas funciones tienen un argumento opcional para especificar el tipo de datos de los elementos en el array."
   ]
  },
  {
   "cell_type": "code",
   "execution_count": 76,
   "metadata": {},
   "outputs": [
    {
     "name": "stdout",
     "output_type": "stream",
     "text": [
      "[[0. 0. 0.]\n",
      " [0. 0. 0.]]\n",
      "<class 'numpy.ndarray'>\n",
      "data.ndim:  2\n",
      "data.shape:  (2, 3)\n",
      "data.size:  6\n",
      "data.dtype:  float64\n",
      "data.nbytes: 48\n",
      "[1. 1. 1. 1.]\n",
      "<class 'numpy.ndarray'>\n",
      "data.ndim:  1\n",
      "data.shape:  (4,)\n",
      "data.size:  4\n",
      "data.dtype:  float64\n",
      "data.nbytes: 32\n",
      "[1 1 1 1]\n",
      "<class 'numpy.ndarray'>\n",
      "data.ndim:  1\n",
      "data.shape:  (4,)\n",
      "data.size:  4\n",
      "data.dtype:  int64\n",
      "data.nbytes: 32\n"
     ]
    }
   ],
   "source": [
    "data = np.zeros((2, 3))\n",
    "info_array(data)\n",
    "\n",
    "data = np.ones(4)\n",
    "info_array(data)\n",
    "\n",
    "data= np.ones(4, dtype=np.int64)\n",
    "info_array(data)"
   ]
  },
  {
   "cell_type": "markdown",
   "metadata": {},
   "source": [
    "#### 3.2.2.3 Arrays con secuencias incrementales"
   ]
  },
  {
   "cell_type": "markdown",
   "metadata": {},
   "source": [
    "`numpy` cuenta con dos funciones, `np.arange()` y `np.linspace()` para crear arrays con datos con espaciado constante. Ambas funciones toman tres argumentos: los primeros dos son el valor inicial y final. El tercer argumento para `np.arange()` es el incremento, y para `np.linspace()` es el número de puntos en el array."
   ]
  },
  {
   "cell_type": "code",
   "execution_count": 81,
   "metadata": {},
   "outputs": [
    {
     "name": "stdout",
     "output_type": "stream",
     "text": [
      "Note que np.arange() excluye el valor final\n",
      "[ 0  2  4  6  8 10]\n",
      "Note que np.linspace() incluye el valor final\n",
      "[ 0.   2.5  5.   7.5 10. ]\n"
     ]
    }
   ],
   "source": [
    "data = np.arange(0, 11, 2)\n",
    "print('Note que np.arange() excluye el valor final')\n",
    "print(data)\n",
    "data = np.linspace(0.0, 10, 5)\n",
    "print('Note que np.linspace() incluye el valor final')\n",
    "print(data)"
   ]
  },
  {
   "cell_type": "markdown",
   "metadata": {},
   "source": [
    "La función `np.logspace()` es similar en funcionamiento a `np.linspace()`, pero los incrementos están distribuidos de forma logarítmica. Los primeros dos argumentos corresponden a las potencias respecto al argumento opcional `base`, cuyo valor por default es `10`."
   ]
  },
  {
   "cell_type": "code",
   "execution_count": 83,
   "metadata": {},
   "outputs": [
    {
     "name": "stdout",
     "output_type": "stream",
     "text": [
      "[  1.  10. 100.]\n",
      "[1. 2. 4.]\n"
     ]
    }
   ],
   "source": [
    "data = np.logspace(0, 2, 3) # data points between 10**0 = 1 to 10**2=100\n",
    "print(data)\n",
    "\n",
    "data = np.logspace(0, 2, 3, base=2) # data points between 2**0 = 1 to 2**2=4\n",
    "print(data)"
   ]
  },
  {
   "cell_type": "markdown",
   "metadata": {},
   "source": [
    "#### 3.2.2.4 Arrays tipo Meshgrid"
   ]
  },
  {
   "cell_type": "markdown",
   "metadata": {},
   "source": [
    "La función `np.meshgrid()` se utiliza para generar mallas con coordenadas multi-dimensionales."
   ]
  },
  {
   "cell_type": "code",
   "execution_count": 86,
   "metadata": {},
   "outputs": [
    {
     "name": "stdout",
     "output_type": "stream",
     "text": [
      "[[-1  0  1]\n",
      " [-1  0  1]\n",
      " [-1  0  1]]\n",
      "[[-1 -1 -1]\n",
      " [ 0  0  0]\n",
      " [ 1  1  1]]\n"
     ]
    }
   ],
   "source": [
    "x = np.array([-1, 0, 1])\n",
    "y = np.array([-1, 0, 1])\n",
    "\n",
    "X, Y = np.meshgrid(x, y)\n",
    "\n",
    "print(X)\n",
    "print(Y)"
   ]
  },
  {
   "cell_type": "markdown",
   "metadata": {},
   "source": [
    "Un caso de utilización común de arrays de dos-dimensiones, como `X`, `Y` en el ejemplo, es para evaluar funciones que dependen de dos variables `x`, `y`. \n",
    "\n",
    "Por ejemplo, para evaluar la expresión $z=(x^2 + y^2)$ para todas las combinaciones de valores `x`, `y`."
   ]
  },
  {
   "cell_type": "code",
   "execution_count": 11,
   "metadata": {},
   "outputs": [
    {
     "name": "stdout",
     "output_type": "stream",
     "text": [
      "[[2 1 2]\n",
      " [1 0 1]\n",
      " [2 1 2]]\n"
     ]
    }
   ],
   "source": [
    "Z = (X**2 + Y**2)\n",
    "print(Z)"
   ]
  },
  {
   "cell_type": "markdown",
   "metadata": {},
   "source": [
    "## 3.3 Navegación y manipulación de Arrays"
   ]
  },
  {
   "cell_type": "markdown",
   "metadata": {},
   "source": [
    "### 3.3.1 Arrays de una dimensión"
   ]
  },
  {
   "cell_type": "markdown",
   "metadata": {},
   "source": [
    "Resumen de operaciones para navegar en Arrays:\n",
    "\n",
    "| Expressión | Descripción |\n",
    "|------------|-------------|\n",
    "| `a[m]`     | Seleccionar el índice `m`, donde `m` es un entero (se cuanta a partir de 0). |\n",
    "| `a[-m]`    | Seleccionar el índice `m` contando desde el final de la lista, donde `m` es un entero. El último elemento lleva índice `-1`, el penúltimo `-2`, y así sucesivamente. |\n",
    "| `a[m:n]`   | Seleccionar elementos cuyo índice comienza en `m` y termina en `n-1` (`m`, `n` son enteros). |\n",
    "| `a[:]` | Seleccionar todos los elementos de un eje dado |\n",
    "| `a[:n]` | Seleccionar los elementos que van del índice `0` hasta el índice `n-1` (`n` es un entero). |\n",
    "| `a[m:]`  | Seleccionar los elementos que van del índice `m` hasta el último elemento. |\n",
    "| `a[m:n:p]`| Seleccionar elementos que van del índice `m` hasta el  `n` (excluyente), con incremento `p`. |\n",
    "| `a[::-1]` | Seleccionar todos los elementos, revirtiendo el órden. |"
   ]
  },
  {
   "cell_type": "code",
   "execution_count": 12,
   "metadata": {},
   "outputs": [
    {
     "name": "stdout",
     "output_type": "stream",
     "text": [
      "a = [ 0  1  2  3  4  5  6  7  8  9 10]\n",
      "a[0] = 0\n",
      "a[-1] = 10\n",
      "a[4] = 4\n"
     ]
    }
   ],
   "source": [
    "a = np.arange(0, 11)\n",
    "print(f'a = {a}')\n",
    "print(f'a[0] = {a[0]}') # first element\n",
    "print(f'a[-1] = {a[-1]}') # last element\n",
    "print(f'a[4] = {a[4]}') # the fifth element, at index 4"
   ]
  },
  {
   "cell_type": "code",
   "execution_count": 13,
   "metadata": {},
   "outputs": [
    {
     "name": "stdout",
     "output_type": "stream",
     "text": [
      "a = [ 0  1  2  3  4  5  6  7  8  9 10]\n",
      "a[1:-1] = [1 2 3 4 5 6 7 8 9]\n",
      "a[1:-1:2] = [1 3 5 7 9]\n"
     ]
    }
   ],
   "source": [
    "print(f'a = {a}')\n",
    "print(f'a[1:-1] = {a[1:-1]}') # second to second-to-last element\n",
    "print(f'a[1:-1:2] = {a[1:-1:2]}') # second to second-to-last element, with step 2"
   ]
  },
  {
   "cell_type": "markdown",
   "metadata": {},
   "source": [
    "### 3.3.2 Arrays multi-dimensionales"
   ]
  },
  {
   "cell_type": "code",
   "execution_count": 88,
   "metadata": {},
   "outputs": [
    {
     "name": "stdout",
     "output_type": "stream",
     "text": [
      "[[1. 0. 0. 0. 0.]\n",
      " [0. 1. 0. 0. 0.]\n",
      " [0. 0. 1. 0. 0.]\n",
      " [0. 0. 0. 1. 0.]\n",
      " [0. 0. 0. 0. 1.]]\n"
     ]
    }
   ],
   "source": [
    "A = np.identity(5)\n",
    "print(A)"
   ]
  },
  {
   "cell_type": "markdown",
   "metadata": {},
   "source": [
    "Modificar elementos en el Array"
   ]
  },
  {
   "cell_type": "code",
   "execution_count": 91,
   "metadata": {},
   "outputs": [
    {
     "name": "stdout",
     "output_type": "stream",
     "text": [
      "[[2. 0. 0. 0. 0.]\n",
      " [0. 3. 0. 0. 0.]\n",
      " [0. 0. 4. 0. 0.]\n",
      " [0. 0. 0. 5. 4.]\n",
      " [0. 0. 0. 0. 6.]]\n"
     ]
    }
   ],
   "source": [
    "for i in range(5):\n",
    "    A[i,i] = i+2\n",
    "\n",
    "A[3,4] = 4\n",
    "print(A)"
   ]
  },
  {
   "cell_type": "markdown",
   "metadata": {},
   "source": [
    "Seleccionar filas o columnas"
   ]
  },
  {
   "cell_type": "code",
   "execution_count": 92,
   "metadata": {},
   "outputs": [
    {
     "name": "stdout",
     "output_type": "stream",
     "text": [
      "A[:,1] = \n",
      " [2. 0. 0. 0. 0.]\n",
      "A[1,:] = \n",
      " [0. 3. 0. 0. 0.]\n"
     ]
    }
   ],
   "source": [
    "print(f'A[:,1] = \\n {A[:,0]}') # primera columna\n",
    "print(f'A[1,:] = \\n {A[1,:]}') # segunda fila"
   ]
  },
  {
   "cell_type": "markdown",
   "metadata": {},
   "source": [
    "### 3.3.3 Cambiar la forma de Arrays"
   ]
  },
  {
   "cell_type": "markdown",
   "metadata": {},
   "source": [
    "La función `np.reshape()`, o el método `reshape` de la clase `ndarray` permiten modificar redimensionar los arrays. Esta operación únicamente modifica la manera en que la estructura de datos es interpretada."
   ]
  },
  {
   "cell_type": "code",
   "execution_count": 17,
   "metadata": {},
   "outputs": [
    {
     "name": "stdout",
     "output_type": "stream",
     "text": [
      "[[1 2]\n",
      " [3 4]]\n",
      "<class 'numpy.ndarray'>\n",
      "data.ndim:  2\n",
      "data.shape:  (2, 2)\n",
      "data.size:  4\n",
      "data.dtype:  int64\n",
      "data.nbytes: 32\n"
     ]
    }
   ],
   "source": [
    "data = np.array([[1, 2], [3, 4]])\n",
    "info_array(data)"
   ]
  },
  {
   "cell_type": "code",
   "execution_count": 18,
   "metadata": {},
   "outputs": [
    {
     "name": "stdout",
     "output_type": "stream",
     "text": [
      "[[1 2 3 4]]\n",
      "<class 'numpy.ndarray'>\n",
      "data.ndim:  2\n",
      "data.shape:  (1, 4)\n",
      "data.size:  4\n",
      "data.dtype:  int64\n",
      "data.nbytes: 32\n"
     ]
    }
   ],
   "source": [
    "d1 = np.reshape(data, (1, 4))\n",
    "info_array(d1)"
   ]
  },
  {
   "cell_type": "code",
   "execution_count": 19,
   "metadata": {},
   "outputs": [
    {
     "name": "stdout",
     "output_type": "stream",
     "text": [
      "[1 2 3 4]\n",
      "<class 'numpy.ndarray'>\n",
      "data.ndim:  1\n",
      "data.shape:  (4,)\n",
      "data.size:  4\n",
      "data.dtype:  int64\n",
      "data.nbytes: 32\n"
     ]
    }
   ],
   "source": [
    "d2 = data.reshape(4)\n",
    "info_array(d2)"
   ]
  },
  {
   "cell_type": "markdown",
   "metadata": {},
   "source": [
    "La función `np.ravel()` y el método `flatten` de la clase `ndarray` permiten colapsar un array multi-dimensional en un array de una dimensión.\n"
   ]
  },
  {
   "cell_type": "code",
   "execution_count": 20,
   "metadata": {},
   "outputs": [
    {
     "name": "stdout",
     "output_type": "stream",
     "text": [
      "[[1 2]\n",
      " [3 4]]\n",
      "<class 'numpy.ndarray'>\n",
      "data.ndim:  2\n",
      "data.shape:  (2, 2)\n",
      "data.size:  4\n",
      "data.dtype:  int64\n",
      "data.nbytes: 32\n"
     ]
    }
   ],
   "source": [
    "data = np.array([[1, 2], [3, 4]])\n",
    "info_array(data)"
   ]
  },
  {
   "cell_type": "code",
   "execution_count": 21,
   "metadata": {},
   "outputs": [
    {
     "name": "stdout",
     "output_type": "stream",
     "text": [
      "[1 2 3 4]\n",
      "<class 'numpy.ndarray'>\n",
      "data.ndim:  1\n",
      "data.shape:  (4,)\n",
      "data.size:  4\n",
      "data.dtype:  int64\n",
      "data.nbytes: 32\n"
     ]
    }
   ],
   "source": [
    "d1 = np.ravel(data)\n",
    "info_array(d1)"
   ]
  },
  {
   "cell_type": "code",
   "execution_count": 22,
   "metadata": {},
   "outputs": [
    {
     "name": "stdout",
     "output_type": "stream",
     "text": [
      "[1 2 3 4]\n",
      "<class 'numpy.ndarray'>\n",
      "data.ndim:  1\n",
      "data.shape:  (4,)\n",
      "data.size:  4\n",
      "data.dtype:  int64\n",
      "data.nbytes: 32\n"
     ]
    }
   ],
   "source": [
    "d2 = data.flatten()\n",
    "info_array(d2)"
   ]
  },
  {
   "cell_type": "markdown",
   "metadata": {},
   "source": [
    "También es posible agregar nuevos ejes a un array, ya sea utilizando la función `np.reshape()`, o utilizando la palabra reservada `np.newaxis` cuando se desée agregar una eje vacío."
   ]
  },
  {
   "cell_type": "code",
   "execution_count": 23,
   "metadata": {},
   "outputs": [
    {
     "name": "stdout",
     "output_type": "stream",
     "text": [
      "[0 1 2 3 4]\n",
      "<class 'numpy.ndarray'>\n",
      "data.ndim:  1\n",
      "data.shape:  (5,)\n",
      "data.size:  5\n",
      "data.dtype:  int64\n",
      "data.nbytes: 40\n"
     ]
    }
   ],
   "source": [
    "data = np.arange(0, 5)\n",
    "info_array(data)"
   ]
  },
  {
   "cell_type": "code",
   "execution_count": 24,
   "metadata": {},
   "outputs": [
    {
     "name": "stdout",
     "output_type": "stream",
     "text": [
      "[[0]\n",
      " [1]\n",
      " [2]\n",
      " [3]\n",
      " [4]]\n",
      "<class 'numpy.ndarray'>\n",
      "data.ndim:  2\n",
      "data.shape:  (5, 1)\n",
      "data.size:  5\n",
      "data.dtype:  int64\n",
      "data.nbytes: 40\n"
     ]
    }
   ],
   "source": [
    "column = data[:, np.newaxis]\n",
    "info_array(column)"
   ]
  },
  {
   "cell_type": "code",
   "execution_count": 25,
   "metadata": {},
   "outputs": [
    {
     "name": "stdout",
     "output_type": "stream",
     "text": [
      "[[0 1 2 3 4]]\n",
      "<class 'numpy.ndarray'>\n",
      "data.ndim:  2\n",
      "data.shape:  (1, 5)\n",
      "data.size:  5\n",
      "data.dtype:  int64\n",
      "data.nbytes: 40\n"
     ]
    }
   ],
   "source": [
    "row = data[np.newaxis, :]\n",
    "info_array(row)"
   ]
  },
  {
   "cell_type": "markdown",
   "metadata": {},
   "source": [
    "La función `np.expand_dims()` es otra alternativa para agregar dimensiones a un array."
   ]
  },
  {
   "cell_type": "code",
   "execution_count": 26,
   "metadata": {},
   "outputs": [
    {
     "name": "stdout",
     "output_type": "stream",
     "text": [
      "[0 1 2 3 4]\n",
      "<class 'numpy.ndarray'>\n",
      "data.ndim:  1\n",
      "data.shape:  (5,)\n",
      "data.size:  5\n",
      "data.dtype:  int64\n",
      "data.nbytes: 40\n"
     ]
    }
   ],
   "source": [
    "data = np.arange(0, 5)\n",
    "info_array(data)"
   ]
  },
  {
   "cell_type": "code",
   "execution_count": 27,
   "metadata": {},
   "outputs": [
    {
     "name": "stdout",
     "output_type": "stream",
     "text": [
      "[[0]\n",
      " [1]\n",
      " [2]\n",
      " [3]\n",
      " [4]]\n",
      "<class 'numpy.ndarray'>\n",
      "data.ndim:  2\n",
      "data.shape:  (5, 1)\n",
      "data.size:  5\n",
      "data.dtype:  int64\n",
      "data.nbytes: 40\n"
     ]
    }
   ],
   "source": [
    "column = np.expand_dims(data, axis=1)\n",
    "info_array(column)"
   ]
  },
  {
   "cell_type": "code",
   "execution_count": 28,
   "metadata": {},
   "outputs": [
    {
     "name": "stdout",
     "output_type": "stream",
     "text": [
      "[[0 1 2 3 4]]\n",
      "<class 'numpy.ndarray'>\n",
      "data.ndim:  2\n",
      "data.shape:  (1, 5)\n",
      "data.size:  5\n",
      "data.dtype:  int64\n",
      "data.nbytes: 40\n"
     ]
    }
   ],
   "source": [
    "row = np.expand_dims(data, axis=0)\n",
    "info_array(row)"
   ]
  },
  {
   "cell_type": "markdown",
   "metadata": {},
   "source": [
    "### 3.3.4 Combinar Arrays"
   ]
  },
  {
   "cell_type": "markdown",
   "metadata": {},
   "source": [
    "Las funciones `np.vstack()`, `np.hstack()` permiten empilar arrays de forma vertical u horizontal, respectivamente."
   ]
  },
  {
   "cell_type": "code",
   "execution_count": 29,
   "metadata": {},
   "outputs": [
    {
     "name": "stdout",
     "output_type": "stream",
     "text": [
      "[0 1 2 3 4]\n",
      "<class 'numpy.ndarray'>\n",
      "data.ndim:  1\n",
      "data.shape:  (5,)\n",
      "data.size:  5\n",
      "data.dtype:  int64\n",
      "data.nbytes: 40\n"
     ]
    }
   ],
   "source": [
    "data = np.arange(5)\n",
    "info_array(data)"
   ]
  },
  {
   "cell_type": "code",
   "execution_count": 30,
   "metadata": {},
   "outputs": [
    {
     "name": "stdout",
     "output_type": "stream",
     "text": [
      "[[0 1 2 3 4]\n",
      " [0 1 2 3 4]\n",
      " [0 1 2 3 4]]\n",
      "<class 'numpy.ndarray'>\n",
      "data.ndim:  2\n",
      "data.shape:  (3, 5)\n",
      "data.size:  15\n",
      "data.dtype:  int64\n",
      "data.nbytes: 120\n"
     ]
    }
   ],
   "source": [
    "vstack = np.vstack((data, data, data))\n",
    "info_array(vstack)"
   ]
  },
  {
   "cell_type": "code",
   "execution_count": 31,
   "metadata": {},
   "outputs": [
    {
     "name": "stdout",
     "output_type": "stream",
     "text": [
      "[[0]\n",
      " [1]\n",
      " [2]\n",
      " [3]\n",
      " [4]\n",
      " [0]\n",
      " [1]\n",
      " [2]\n",
      " [3]\n",
      " [4]]\n",
      "<class 'numpy.ndarray'>\n",
      "data.ndim:  2\n",
      "data.shape:  (10, 1)\n",
      "data.size:  10\n",
      "data.dtype:  int64\n",
      "data.nbytes: 80\n"
     ]
    }
   ],
   "source": [
    "column = np.expand_dims(data, axis=1)\n",
    "vstack1 = np.vstack((column, column))\n",
    "info_array(vstack1)"
   ]
  },
  {
   "cell_type": "code",
   "execution_count": 32,
   "metadata": {},
   "outputs": [
    {
     "name": "stdout",
     "output_type": "stream",
     "text": [
      "[0 1 2 3 4]\n",
      "<class 'numpy.ndarray'>\n",
      "data.ndim:  1\n",
      "data.shape:  (5,)\n",
      "data.size:  5\n",
      "data.dtype:  int64\n",
      "data.nbytes: 40\n"
     ]
    }
   ],
   "source": [
    "data = np.arange(5)\n",
    "info_array(data)"
   ]
  },
  {
   "cell_type": "code",
   "execution_count": 33,
   "metadata": {},
   "outputs": [
    {
     "name": "stdout",
     "output_type": "stream",
     "text": [
      "[0 1 2 3 4 0 1 2 3 4]\n",
      "<class 'numpy.ndarray'>\n",
      "data.ndim:  1\n",
      "data.shape:  (10,)\n",
      "data.size:  10\n",
      "data.dtype:  int64\n",
      "data.nbytes: 80\n"
     ]
    }
   ],
   "source": [
    "hstack = np.hstack((data, data))\n",
    "info_array(hstack)"
   ]
  },
  {
   "cell_type": "code",
   "execution_count": 34,
   "metadata": {},
   "outputs": [
    {
     "name": "stdout",
     "output_type": "stream",
     "text": [
      "[[0 0 0]\n",
      " [1 1 1]\n",
      " [2 2 2]\n",
      " [3 3 3]\n",
      " [4 4 4]]\n",
      "<class 'numpy.ndarray'>\n",
      "data.ndim:  2\n",
      "data.shape:  (5, 3)\n",
      "data.size:  15\n",
      "data.dtype:  int64\n",
      "data.nbytes: 120\n"
     ]
    }
   ],
   "source": [
    "column = np.expand_dims(data, axis=1)\n",
    "hstack1 = np.hstack((column, column, column))\n",
    "info_array(hstack1)"
   ]
  },
  {
   "cell_type": "markdown",
   "metadata": {},
   "source": [
    "## 3.4 Operaciones y funciones"
   ]
  },
  {
   "cell_type": "markdown",
   "metadata": {},
   "source": [
    "### 3.4.1 Operaciones vectorizadas"
   ]
  },
  {
   "cell_type": "markdown",
   "metadata": {},
   "source": [
    "El propósito de almacenar datos numéricos en arrays es poder procesarlo en lotes utilizando expresiones vectorizadas concizas, que permitan aplicar la misma operación a todos los elementos del array. Esta filosofía permite prescindir en muchos casos de la utilización de bucles de cálculo."
   ]
  },
  {
   "cell_type": "code",
   "execution_count": 35,
   "metadata": {},
   "outputs": [],
   "source": [
    "x = np.array([[1, 2], [3, 4]])\n",
    "y = np.array([[5, 6], [7, 8]])"
   ]
  },
  {
   "cell_type": "code",
   "execution_count": 36,
   "metadata": {},
   "outputs": [
    {
     "name": "stdout",
     "output_type": "stream",
     "text": [
      "[[1 2]\n",
      " [3 4]]\n",
      "+\n",
      "[[5 6]\n",
      " [7 8]]\n",
      "========\n",
      "[[ 6  8]\n",
      " [10 12]]\n"
     ]
    }
   ],
   "source": [
    "print(f\"{x}\")\n",
    "print(\"+\")\n",
    "print(f\"{y}\")\n",
    "print(8*\"=\")\n",
    "print(f\"{x+y}\")"
   ]
  },
  {
   "cell_type": "markdown",
   "metadata": {},
   "source": [
    "La vectorización de operaciones permite escribir código más claro, y con tiempos de ejecución más rápidos."
   ]
  },
  {
   "cell_type": "code",
   "execution_count": 37,
   "metadata": {},
   "outputs": [
    {
     "name": "stdout",
     "output_type": "stream",
     "text": [
      "361 ns ± 8.78 ns per loop (mean ± std. dev. of 7 runs, 1,000,000 loops each)\n"
     ]
    }
   ],
   "source": [
    "%%timeit\n",
    "z = x + y"
   ]
  },
  {
   "cell_type": "code",
   "execution_count": 38,
   "metadata": {},
   "outputs": [
    {
     "name": "stdout",
     "output_type": "stream",
     "text": [
      "3.19 µs ± 17.7 ns per loop (mean ± std. dev. of 7 runs, 100,000 loops each)\n"
     ]
    }
   ],
   "source": [
    "%%timeit\n",
    "z = np.zeros_like(x)\n",
    "for i in range(len(x)):\n",
    "    for j in range(len(y)):\n",
    "        z[i,j] = x[i,j] + y[i,j]"
   ]
  },
  {
   "cell_type": "markdown",
   "metadata": {},
   "source": [
    "Es posible vectorizar una función que originalmente sólo puede operar elemento a elemento, utilizando la función `np.vectorize()` o usando arrays booleanos."
   ]
  },
  {
   "cell_type": "code",
   "execution_count": 39,
   "metadata": {},
   "outputs": [],
   "source": [
    "x = np.linspace(-1, 1, 11)"
   ]
  },
  {
   "cell_type": "code",
   "execution_count": 95,
   "metadata": {},
   "outputs": [
    {
     "name": "stdout",
     "output_type": "stream",
     "text": [
      "0\n",
      "1\n"
     ]
    }
   ],
   "source": [
    "# La función de Heaviside, como está definida aquí, no permite trabajar con arrays\n",
    "def heaviside(x):\n",
    "    return 1 if x > 0 else 0\n",
    "\n",
    "print(heaviside(-1))\n",
    "print(heaviside(1))\n",
    "#print(heaviside(x)) # esto produce un error"
   ]
  },
  {
   "cell_type": "code",
   "execution_count": 41,
   "metadata": {},
   "outputs": [],
   "source": [
    "# vectorizar utilizando np.vectorize()\n",
    "heaviside1 = np.vectorize(heaviside)"
   ]
  },
  {
   "cell_type": "code",
   "execution_count": 42,
   "metadata": {},
   "outputs": [],
   "source": [
    "# vectorizar utilizando lógica booleana\n",
    "def heaviside2(x):\n",
    "    return 1 * (x>0)"
   ]
  },
  {
   "cell_type": "markdown",
   "metadata": {},
   "source": [
    "La función creada "
   ]
  },
  {
   "cell_type": "code",
   "execution_count": 43,
   "metadata": {},
   "outputs": [
    {
     "name": "stdout",
     "output_type": "stream",
     "text": [
      "[0 0 0 0 0 0 1 1 1 1 1]\n",
      "[0 0 0 0 0 0 1 1 1 1 1]\n"
     ]
    }
   ],
   "source": [
    "print(heaviside1(x))\n",
    "print(heaviside2(x))"
   ]
  },
  {
   "cell_type": "markdown",
   "metadata": {},
   "source": [
    "La función `heaviside1()`, creada con `np.vectorize()` llama de forma individual a la función original para cada elemento del array. Es por esto que su ejecución es más lenta que la función `heaviside2()`, creada con lógica booleana es relativamente más rápida."
   ]
  },
  {
   "cell_type": "code",
   "execution_count": 44,
   "metadata": {},
   "outputs": [
    {
     "name": "stdout",
     "output_type": "stream",
     "text": [
      "7.72 µs ± 37 ns per loop (mean ± std. dev. of 7 runs, 100,000 loops each)\n"
     ]
    }
   ],
   "source": [
    "%%timeit\n",
    "heaviside1(x)"
   ]
  },
  {
   "cell_type": "code",
   "execution_count": 45,
   "metadata": {},
   "outputs": [
    {
     "name": "stdout",
     "output_type": "stream",
     "text": [
      "1.87 µs ± 13.3 ns per loop (mean ± std. dev. of 7 runs, 1,000,000 loops each)\n"
     ]
    }
   ],
   "source": [
    "%%timeit\n",
    "heaviside2(x)"
   ]
  },
  {
   "cell_type": "markdown",
   "metadata": {},
   "source": [
    "### 3.4.2 Operaciones aritméticas"
   ]
  },
  {
   "cell_type": "markdown",
   "metadata": {},
   "source": [
    "Las operaciones artiméticas se realizan elemento a elemento."
   ]
  },
  {
   "cell_type": "code",
   "execution_count": 46,
   "metadata": {},
   "outputs": [
    {
     "name": "stdout",
     "output_type": "stream",
     "text": [
      "x = \n",
      " [[1 2]\n",
      " [3 4]]\n",
      "y = \n",
      " [[5 6]\n",
      " [7 8]]\n"
     ]
    }
   ],
   "source": [
    "x = np.array([[1, 2], [3, 4]])\n",
    "y = np.array([[5, 6], [7, 8]])\n",
    "print(f'x = \\n {x}')\n",
    "print(f'y = \\n {y}')"
   ]
  },
  {
   "cell_type": "code",
   "execution_count": 47,
   "metadata": {},
   "outputs": [
    {
     "name": "stdout",
     "output_type": "stream",
     "text": [
      "x + y = \n",
      " [[ 6  8]\n",
      " [10 12]]\n"
     ]
    }
   ],
   "source": [
    "# Adición\n",
    "print(f'x + y = \\n {x+y}')"
   ]
  },
  {
   "cell_type": "code",
   "execution_count": 48,
   "metadata": {},
   "outputs": [
    {
     "name": "stdout",
     "output_type": "stream",
     "text": [
      "x - y = \n",
      " [[-4 -4]\n",
      " [-4 -4]]\n"
     ]
    }
   ],
   "source": [
    "# Substracción\n",
    "print(f'x - y = \\n {x-y}')"
   ]
  },
  {
   "cell_type": "code",
   "execution_count": 49,
   "metadata": {},
   "outputs": [
    {
     "name": "stdout",
     "output_type": "stream",
     "text": [
      "x * y = \n",
      " [[ 5 12]\n",
      " [21 32]]\n"
     ]
    }
   ],
   "source": [
    "# Multiplicación\n",
    "print(f'x * y = \\n {x*y}')"
   ]
  },
  {
   "cell_type": "code",
   "execution_count": 50,
   "metadata": {},
   "outputs": [
    {
     "name": "stdout",
     "output_type": "stream",
     "text": [
      "x / y = \n",
      " [[0.2        0.33333333]\n",
      " [0.42857143 0.5       ]]\n"
     ]
    }
   ],
   "source": [
    "# División\n",
    "print(f'x / y = \\n {x / y}')"
   ]
  },
  {
   "cell_type": "markdown",
   "metadata": {},
   "source": [
    "### 3.4.3 Funciones que operan elemento a elemento"
   ]
  },
  {
   "cell_type": "markdown",
   "metadata": {},
   "source": [
    "| Función | Descripción |\n",
    "|----------------|-------------------------|\n",
    "| `np.sin()`, `np.cos()`, `np.tan()` | Funciones trigonométricas |\n",
    "| `np.arcsin()`, `np.arccos()`, `np.arctan()` | Funciones trigonométricas inversas |\n",
    "| `np.sinh()`, `np.cosh()`, `np.tanh()` | Funciones trigonométricas hiperbólicas |\n",
    "| `np.arcsinh()`, `np.arccosh()`, `np.arctanh()` | Funciones trigonométricas hiperbólicas inversas |\n",
    "| `np.sqrt()` | Raíz cuadrada |\n",
    "| `np.exp()` | Exponencial |\n",
    "| `np.log()`, `np.log2()`, `np.log10()` | Logarítmos base e, 2, 10, respectivamente. |\n",
    "| `np.add()`, `np.subtract()`, `np.multiply()`, `np.divide()` | Adición, substracción, multiplicación, división de dos arrays. |\n",
    "| `np.power()` | Eleva el primer argumento a la potencia del segundo argumento (aplicada elemento a elemento) |\n",
    "| `np.remainder()` | Restante de una división |\n",
    "| `np.real()`, `np.imag()`, `np.conj()` | La parte real, imaginaria, y el complejo conjugado de los elementos en un array |\n",
    "| `np.sign()`, `np.abs()` | El signo, y el valor absoluto. |\n",
    "| `np.floor()`, `np.ceil()`, `np.rint()` | Convertir a números enteros |\n",
    "| `np.round()` | Redondear a un número dado de decimales. |"
   ]
  },
  {
   "cell_type": "code",
   "execution_count": 51,
   "metadata": {},
   "outputs": [
    {
     "name": "stdout",
     "output_type": "stream",
     "text": [
      "x = \n",
      " [0.     0.7854 1.5708 2.3562 3.1416]\n",
      "sin(x) = \n",
      " [0.     0.7071 1.     0.7071 0.    ]\n"
     ]
    }
   ],
   "source": [
    "x = np.linspace(0, np.pi, 5)\n",
    "print(f\"x = \\n {np.round(x, decimals=4)}\")\n",
    "print(f\"sin(x) = \\n {np.round(np.sin(x), decimals=4)}\")"
   ]
  },
  {
   "cell_type": "code",
   "execution_count": 52,
   "metadata": {},
   "outputs": [
    {
     "name": "stdout",
     "output_type": "stream",
     "text": [
      "t = \n",
      " [0.     0.6796 1.3591 2.0387 2.7183]\n",
      "exp(-t) = \n",
      " [1.     0.5068 0.2569 0.1302 0.066 ]\n"
     ]
    }
   ],
   "source": [
    "t = np.linspace(0, np.e, 5)\n",
    "print(f\"t = \\n {np.round(t, decimals=4)}\")\n",
    "print(f\"exp(-t) = \\n {np.round(np.exp(-t), decimals=4)}\")"
   ]
  },
  {
   "cell_type": "markdown",
   "metadata": {},
   "source": [
    "### 3.4.4 Funciones de agregación"
   ]
  },
  {
   "cell_type": "markdown",
   "metadata": {},
   "source": [
    "| Función | Descripción |\n",
    "|----------------|------------------|\n",
    "| `np.mean()` | El promedio de todos los valores en el array. |\n",
    "| `np.std()` | Desviación estándar. |\n",
    "| `np.var()` | Varianza. |\n",
    "| `np.sum()` | Suma de todos los elemetos. |\n",
    "| `np.prod()` | Producto de todos los elementos. |\n",
    "| `np.cumsum()` | Suma acumulada de todos los elementos. |\n",
    "| `np.cumprod()` | Producto acumulado de todos los elementos. |\n",
    "| `np.min()`, `np.max()` | Valor mínimo/máximo en un array. |\n",
    "| `np.argmin()`, `np.argmax()` | La posición (índice) del valor mínimo/máximo en un array. |\n",
    "| `np.all()` | Regresa `True` si todos los elementos en el array son diferentes de cero. |\n",
    "| `np.any()` | Regresa `True` si algún elemento en el array es diferente de cero. |\n",
    "\n",
    "Por default, estas funciones llevan a cabo la agregación sobre todo el array. Si se utiliza el argumento `axis`, y métodos de la clase `ndarray`, es posible controlar sobre cuál eje se lleva a cabo la agregación."
   ]
  },
  {
   "cell_type": "code",
   "execution_count": 53,
   "metadata": {},
   "outputs": [
    {
     "name": "stdout",
     "output_type": "stream",
     "text": [
      "[[1 2 3]\n",
      " [4 5 6]\n",
      " [7 8 9]]\n"
     ]
    }
   ],
   "source": [
    "data = np.arange(1, 10).reshape(3, 3)\n",
    "print(data)"
   ]
  },
  {
   "cell_type": "code",
   "execution_count": 54,
   "metadata": {},
   "outputs": [
    {
     "name": "stdout",
     "output_type": "stream",
     "text": [
      "data.sum() = \n",
      " 45\n",
      "data.sum(axis=0) = \n",
      " [12 15 18]\n",
      "data.sum(axis=1) = \n",
      " [ 6 15 24]\n"
     ]
    }
   ],
   "source": [
    "print(f\"data.sum() = \\n {data.sum()}\")\n",
    "print(f\"data.sum(axis=0) = \\n {data.sum(axis=0)}\")\n",
    "print(f\"data.sum(axis=1) = \\n {data.sum(axis=1)}\")"
   ]
  },
  {
   "cell_type": "markdown",
   "metadata": {},
   "source": [
    "### 3.4.5 Operaciones booleanas y expresiones condicionales"
   ]
  },
  {
   "cell_type": "markdown",
   "metadata": {},
   "source": [
    "Operadores booleanos que realizan comparaciones elemento a elemento\n",
    "\n",
    "| Operador | Descripción |\n",
    "|---|-----------|\n",
    "| `<` | menor que. |\n",
    "| `>` | mayor que. |\n",
    "| `<=` | menor o igual a. |\n",
    "| `>=` | mayor o igual a. |\n",
    "| `==` | igual a. |\n",
    "| `!=` | distinto a. |\n"
   ]
  },
  {
   "cell_type": "code",
   "execution_count": 55,
   "metadata": {},
   "outputs": [
    {
     "name": "stdout",
     "output_type": "stream",
     "text": [
      "a < b = [ True  True False False]\n"
     ]
    }
   ],
   "source": [
    "a = np.array([1, 2, 3, 4])\n",
    "b = np.array([4, 3, 2, 1])\n",
    "print(f\"a < b = {a < b}\")"
   ]
  },
  {
   "cell_type": "markdown",
   "metadata": {},
   "source": [
    "A veces es necesario llevar a cabo una agregación de los resultados booleanos, y esto se puede hacer con las funciones `np.all()` y `np.any()`."
   ]
  },
  {
   "cell_type": "code",
   "execution_count": 56,
   "metadata": {},
   "outputs": [
    {
     "name": "stdout",
     "output_type": "stream",
     "text": [
      "np.all(a < b) ? False\n",
      "np.any(a < b) ? True\n"
     ]
    }
   ],
   "source": [
    "print(f\"np.all(a < b) ? {np.all(a < b)}\")\n",
    "print(f\"np.any(a < b) ? {np.any(a < b)}\")"
   ]
  },
  {
   "cell_type": "markdown",
   "metadata": {},
   "source": [
    "Funciones de numpy para operaciones lógicas entre arrays\n",
    "\n",
    "| Function | Description |\n",
    "|----------|-------------|\n",
    "| `np.where` | Escoge valores de dos arrays dependiendo de una condición dada como argumento. |\n",
    "| `np.choose` | Escoge valores de una lista de arrays dependiendo de los valores dados por un índice de arrays. |\n",
    "| `np.select` | Escorge valores de una lista de arrays dependiendo de una lista de condiciones. |\n",
    "| `np.nonzero` | Regresa un array con indices de los elementos distintos de cero. |\n",
    "| `np.logical_and` | Realiza una operación lógica `AND` elemento a elemento. |\n",
    "| `np.logical_or`, `np.logical_xor` | Realiza una operación lógica `OR`/`XOR` elemento a elemento. |\n",
    "| `np.logical_not` | Realiza una operación lógica `NOT` elemento a elemento. |"
   ]
  },
  {
   "cell_type": "code",
   "execution_count": 57,
   "metadata": {},
   "outputs": [
    {
     "name": "stdout",
     "output_type": "stream",
     "text": [
      "x = \n",
      " [-1.  -0.5  0.   0.5  1. ]\n",
      "x**2 = \n",
      " [1.   0.25 0.   0.25 1.  ]\n",
      "x**3 = \n",
      " [-1.    -0.125  0.     0.125  1.   ]\n"
     ]
    }
   ],
   "source": [
    "x = np.linspace(-1, 1, 5)\n",
    "print(f'x = \\n {x}')\n",
    "print(f'x**2 = \\n {x**2}')\n",
    "print(f'x**3 = \\n {x**3}')"
   ]
  },
  {
   "cell_type": "code",
   "execution_count": 58,
   "metadata": {},
   "outputs": [
    {
     "data": {
      "text/plain": [
       "array([1.   , 0.25 , 0.   , 0.125, 1.   ])"
      ]
     },
     "execution_count": 58,
     "metadata": {},
     "output_type": "execute_result"
    }
   ],
   "source": [
    "np.where(x < 0, (x**2), (x**3))"
   ]
  },
  {
   "cell_type": "code",
   "execution_count": 59,
   "metadata": {},
   "outputs": [
    {
     "data": {
      "text/plain": [
       "array([1.   , 0.25 , 0.   , 0.125, 1.   ])"
      ]
     },
     "execution_count": 59,
     "metadata": {},
     "output_type": "execute_result"
    }
   ],
   "source": [
    "np.select([x < -1, x < 0, x >= 0], [x, x**2, x**3])"
   ]
  },
  {
   "cell_type": "markdown",
   "metadata": {},
   "source": [
    "### 3.4.6 Operaciones de conjuntos"
   ]
  },
  {
   "cell_type": "markdown",
   "metadata": {},
   "source": [
    "| Función | Descripción |\n",
    "|----------|-------------|\n",
    "| `np.unique` | Crea un nuevo array con elementos únicos en un conjunto, donde cada valor aparece una sola vez.  |\n",
    "| `np.in1d` | Prueba para conocer la existencia de un array (conjunto) de elementos en otro array (conjunto). |\n",
    "| `np.intersect1d` | Regresa un array con la intersección de dos conjuntos contenidos en dos arrays. |\n",
    "| `np.setdiff1d` | Regresa un array con la diferencia de de dos conjuntos, los elementos que están contenidos en uno pero no en los dos arrays. |\n",
    "| `np.union1d` | Regresa un array con la unión de dos conjuntos, los elementos que están contenidos en ambos arrays. |"
   ]
  },
  {
   "cell_type": "code",
   "execution_count": 60,
   "metadata": {},
   "outputs": [
    {
     "name": "stdout",
     "output_type": "stream",
     "text": [
      "[1 2 3]\n",
      "[2 3 4 5 6]\n"
     ]
    }
   ],
   "source": [
    "a = np.unique([1, 2, 3, 3])\n",
    "b = np.unique([2, 3, 4, 4, 5, 6, 5])\n",
    "print(a)\n",
    "print(b)"
   ]
  },
  {
   "cell_type": "code",
   "execution_count": 61,
   "metadata": {},
   "outputs": [
    {
     "name": "stdout",
     "output_type": "stream",
     "text": [
      "[False  True  True]\n",
      "[ True  True False False False]\n"
     ]
    }
   ],
   "source": [
    "print(np.in1d(a, b))\n",
    "print(np.in1d(b, a))"
   ]
  },
  {
   "cell_type": "code",
   "execution_count": 62,
   "metadata": {},
   "outputs": [
    {
     "name": "stdout",
     "output_type": "stream",
     "text": [
      "Intersección: [2 3]\n",
      "Diferencia(a, b): [1]\n",
      "Diferencia(b, a): [4 5 6]\n",
      "Union(a, b) = [1 2 3 4 5 6]\n"
     ]
    }
   ],
   "source": [
    "print(f\"Intersección: {np.intersect1d(a, b)}\")\n",
    "print(f\"Diferencia(a, b): {np.setdiff1d(a, b)}\")\n",
    "print(f\"Diferencia(b, a): {np.setdiff1d(b, a)}\")\n",
    "print(f\"Union(a, b) = {np.union1d(a, b)}\")"
   ]
  },
  {
   "cell_type": "code",
   "execution_count": null,
   "metadata": {},
   "outputs": [],
   "source": []
  },
  {
   "cell_type": "markdown",
   "metadata": {},
   "source": [
    "### 3.4.7 Operaciones con arrays"
   ]
  },
  {
   "cell_type": "markdown",
   "metadata": {},
   "source": [
    "| Función | Descrición |\n",
    "|----------|-------------|\n",
    "| `np.transpose()`, `np.ndarray.transpose`, `np.ndarray.T` | Transpuesta de un array. |\n",
    "| `np.flip()` | Revierte el orden de los elementos de un array |\n",
    "| `np.fliplr()` / `np.flipud()` | Revierte el orden de los elementos en cada  fila/columna. |\n",
    "| `np.rot90()` | rota los elementos de los primeros ejes 90 grados. |\n",
    "| `np.sort()`, `np.ndarray.sort` | Ordena los elementos de un array sobre el eje especificado (por default el último eje). |"
   ]
  },
  {
   "cell_type": "code",
   "execution_count": 63,
   "metadata": {},
   "outputs": [
    {
     "name": "stdout",
     "output_type": "stream",
     "text": [
      "[[0 1 2]\n",
      " [3 4 5]\n",
      " [6 7 8]]\n"
     ]
    }
   ],
   "source": [
    "data = np.arange(9).reshape(3, 3)\n",
    "print(data)"
   ]
  },
  {
   "cell_type": "code",
   "execution_count": 64,
   "metadata": {},
   "outputs": [
    {
     "name": "stdout",
     "output_type": "stream",
     "text": [
      "Transpuesta: \n",
      " [[0 3 6]\n",
      " [1 4 7]\n",
      " [2 5 8]]\n",
      "flip: \n",
      " [[8 7 6]\n",
      " [5 4 3]\n",
      " [2 1 0]]\n",
      "fliplr: \n",
      " [[2 1 0]\n",
      " [5 4 3]\n",
      " [8 7 6]]\n",
      "flipud: \n",
      " [[6 7 8]\n",
      " [3 4 5]\n",
      " [0 1 2]]\n",
      "Rotacion 90°: \n",
      " [[2 5 8]\n",
      " [1 4 7]\n",
      " [0 3 6]]\n"
     ]
    }
   ],
   "source": [
    "print(f\"Transpuesta: \\n {np.transpose(data)}\")\n",
    "print(f\"flip: \\n {np.flip(data)}\")\n",
    "print(f\"fliplr: \\n {np.fliplr(data)}\")\n",
    "print(f\"flipud: \\n {np.flipud(data)}\")\n",
    "print(f\"Rotacion 90°: \\n {np.rot90(data)}\")"
   ]
  },
  {
   "cell_type": "code",
   "execution_count": 65,
   "metadata": {},
   "outputs": [
    {
     "name": "stdout",
     "output_type": "stream",
     "text": [
      "[7 2 6 2 3 5 7 5 8 8]\n"
     ]
    }
   ],
   "source": [
    "data = np.random.randint(1, 10, size=10)\n",
    "print(data)"
   ]
  },
  {
   "cell_type": "code",
   "execution_count": 66,
   "metadata": {},
   "outputs": [
    {
     "name": "stdout",
     "output_type": "stream",
     "text": [
      "orden de menor a mayor: \n",
      " [2 2 3 5 5 6 7 7 8 8]\n",
      "orden de mayor a menor: \n",
      " [8 8 7 7 6 5 5 3 2 2]\n"
     ]
    }
   ],
   "source": [
    "print(f\"orden de menor a mayor: \\n {np.sort(data)}\")\n",
    "print(f\"orden de mayor a menor: \\n {np.flip(np.sort(data))}\")"
   ]
  },
  {
   "cell_type": "markdown",
   "metadata": {},
   "source": [
    "### 3.4.8 Operaciones con vectores y matrices"
   ]
  },
  {
   "cell_type": "markdown",
   "metadata": {},
   "source": [
    "| Función | Descripción |\n",
    "|----------------|--------------------------|\n",
    "| `np.dot` | Multiplicación de matrices (producto punto) entre dos arrays, que representan vectores, matrices o tensores. |\n",
    "| `np.inner` | Multiplicación escalar (producto interior) entre una matriz y la transpuesta de otra matriz |\n",
    "| `np.cross` | The cross product between two arrays that represent vectors. |\n",
    "| `np.tensordot` | Dot product along specified axes of multidimensional arrays. |\n",
    "| `np.outer` | Outer product (tensor product of vectors) between two arrays representing vectors. |\n",
    "| `np.kron` | Kronecker product (tensor product of matrices) between arrays representing matrices and higher-dimensional arrays. |\n",
    "| `np.einsum` | Evaluates Einstein's summation convention for multidimensional arrays. |"
   ]
  },
  {
   "cell_type": "code",
   "execution_count": 67,
   "metadata": {},
   "outputs": [
    {
     "name": "stdout",
     "output_type": "stream",
     "text": [
      "A = \n",
      "[[ 1  2]\n",
      " [-2  1]]\n",
      "AT = \n",
      "[[ 1 -2]\n",
      " [ 2  1]]\n"
     ]
    }
   ],
   "source": [
    "A=np.array([[1,2],\n",
    "            [-2,1]])\n",
    "print(f\"A = \\n{A}\")\n",
    "print(f\"AT = \\n{A.T}\") # A.T es equivalente a np.transpose(A)"
   ]
  },
  {
   "cell_type": "code",
   "execution_count": 68,
   "metadata": {},
   "outputs": [
    {
     "name": "stdout",
     "output_type": "stream",
     "text": [
      "A.A = \n",
      "[[-3  4]\n",
      " [-4 -3]]\n",
      "A.AT = \n",
      "[[5 0]\n",
      " [0 5]]\n",
      "A.AT = \n",
      "[[5 0]\n",
      " [0 5]]\n"
     ]
    }
   ],
   "source": [
    "print(f\"A.A = \\n{np.dot(A, A)}\")\n",
    "print(f\"A.AT = \\n{np.dot(A, A.T)}\") \n",
    "print(f\"A.AT = \\n{np.inner(A, A)}\")"
   ]
  },
  {
   "cell_type": "code",
   "execution_count": 69,
   "metadata": {},
   "outputs": [
    {
     "name": "stdout",
     "output_type": "stream",
     "text": [
      "a = \n",
      "[1 0 0]\n",
      "b = \n",
      "[0 1 0]\n"
     ]
    }
   ],
   "source": [
    "a = np.array([1, 0, 0])\n",
    "b = np.array([0, 1, 0])\n",
    "print(f\"a = \\n{a}\")\n",
    "print(f\"b = \\n{b}\")"
   ]
  },
  {
   "cell_type": "code",
   "execution_count": 70,
   "metadata": {},
   "outputs": [
    {
     "name": "stdout",
     "output_type": "stream",
     "text": [
      "a x b = \n",
      "[0 0 1]\n"
     ]
    }
   ],
   "source": [
    "print(f\"a x b = \\n{np.cross(a,b)}\")"
   ]
  },
  {
   "cell_type": "markdown",
   "metadata": {},
   "source": [
    "## 3.5 Referencias / Documentación"
   ]
  },
  {
   "cell_type": "markdown",
   "metadata": {},
   "source": [
    "- https://www.python.org/doc/\n",
    "\n",
    "- https://numpy.org/doc/stable/\n",
    "\n",
    "- https://link.springer.com/book/10.1007/978-1-4842-4246-9"
   ]
  },
  {
   "cell_type": "markdown",
   "metadata": {},
   "source": []
  }
 ],
 "metadata": {
  "kernelspec": {
   "display_name": "Python 3",
   "language": "python",
   "name": "python3"
  },
  "language_info": {
   "codemirror_mode": {
    "name": "ipython",
    "version": 3
   },
   "file_extension": ".py",
   "mimetype": "text/x-python",
   "name": "python",
   "nbconvert_exporter": "python",
   "pygments_lexer": "ipython3",
   "version": "3.10.12"
  }
 },
 "nbformat": 4,
 "nbformat_minor": 2
}
