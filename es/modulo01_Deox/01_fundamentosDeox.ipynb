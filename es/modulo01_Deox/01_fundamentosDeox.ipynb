{
 "cells": [
  {
   "cell_type": "markdown",
   "metadata": {},
   "source": [
    "# Iniciación en Python con Aplicaciones en Aceración (module 01)\n",
    "\n",
    "**Dr. Edgar Ivan Castro Cedeño**\n",
    "\n",
    "[edgar.castro@cinvestav.mx](mailto:edgar.castro@cinvestav.mx)"
   ]
  },
  {
   "cell_type": "markdown",
   "metadata": {},
   "source": [
    "# 1. Fundamentos de desoxidación"
   ]
  },
  {
   "cell_type": "markdown",
   "metadata": {},
   "source": [
    "## 1.1 Reacción de desoxidación general"
   ]
  },
  {
   "cell_type": "markdown",
   "metadata": {},
   "source": [
    "La reacción generalizada para desoxidación se puede expresar como:\n",
    "\n",
    "$$  \\mathrm{\\left(M_xO_y\\right) = x\\left[M\\right] + y\\left[O_x\\right]}$$\n",
    "\n",
    "con constante de reacción:\n",
    "\n",
    "$$ K = \\frac{h_M^x h_O^y}{a_{M_xO_y}} $$\n",
    "\n",
    "$$\\log K = x \\log h_M + y \\log h_O - \\log a_{M_xO_y}$$\n",
    "\n",
    "\n",
    "donde\n",
    "- $a_{M_xO_y}$: actividad termodinámica del producto de desoxidación.\n",
    "- $h_M^x$, $h_O^y$: actividades termodinámicas de especies de solutos en el el metal.\n",
    "\n",
    "Los estados de referencia utilizados pueden ser diferentes para los solutos en el metal y para los productos de desoxidación."
   ]
  },
  {
   "cell_type": "markdown",
   "metadata": {},
   "source": [
    "## 1.2 Tratamiento termodinámico de los productos de desoxidación"
   ]
  },
  {
   "cell_type": "markdown",
   "metadata": {},
   "source": [
    "Para los productos de desoxidación, se considera el compuesto sólido puro como el estado de referencia.\n",
    "\n",
    "$$a_{M_xO_y} = \\gamma_{M_xO_y} {X_{M_xO_y}}$$\n",
    "\n",
    "donde:\n",
    "\n",
    "- $a_{M_xO_y}$: Actividad termodinámica del producto de desoxidación.\n",
    "- $\\gamma_{M_xO_y}$ : Coeficiente de actividad.\n",
    "- $X_{M_xO_y}$: Contenido de $\\mathrm{M_xO_y}$ en el producto de desoxidación, en fracción molar.\n",
    "\n",
    "No se veran en este curso métodos para estimación de actividades en sistemas de óxidos complejos."
   ]
  },
  {
   "cell_type": "markdown",
   "metadata": {},
   "source": [
    "## 1.3 Tratamiento termodinámico de los solutos"
   ]
  },
  {
   "cell_type": "markdown",
   "metadata": {},
   "source": [
    "Para los solutos, se considera una solución Henriana diluida al 1% en peso, como el estado de referencia.\n",
    "\n",
    "$$ h_M = f_M {\\left[\\%M\\right]} $$\n",
    "\n",
    "donde: \n",
    "\n",
    "- $h_M$: Actividad termodinámica del soluto.\n",
    "- $f_M$: Coeficiente de actividad.\n",
    "- $\\left[ \\%M \\right]$: Contenido de soluto, en porciento masa."
   ]
  },
  {
   "cell_type": "markdown",
   "metadata": {},
   "source": [
    "### 1.3.1 Formalismo de parámetros de interacción de Wagner"
   ]
  },
  {
   "cell_type": "markdown",
   "metadata": {},
   "source": [
    "La dependencia entre el coeficiente de actividad de los solutos y la composición química se puede cuantificar mediante el formalismo de parámetros de interacción de [Wagner](https://www.jstage.jst.go.jp/article/isijinternational1966/28/3/28_3_153/_pdf).\n",
    "\n",
    "$$ \\log f_i = \\sum\\limits_{j=2}^{n}{e_i^j \\left[\\%j\\right]} \n",
    "        + \\sum\\limits_{j=2}^n{r_i^j \\left[ \\%j\\right]^2} \n",
    "        + \\sum\\limits_{j=2}^{n-1} \\sum\\limits_{k>j}^{n} {r_i^{j,k} \\left[\\%j\\right]\\left[\\%k\\right]}$$\n",
    "\n",
    "donde:\n",
    "- $f_i$: Coeficiente de actividad del soluto $i$.\n",
    "- $e_i^j$: Parámetros de interacción de 1er orden para el soluto $i$ en presencia de otro soluto $j$.\n",
    "- $r_i^j$: Parámetros de interacción de 2do orden para el soluto $i$ en presencia de otro soluto $j$.\n",
    "- $r_i^{j,k}$: Parámetros de interacción de 2do orden para el soluto $i$ en presencia de solutos $j$, $k$.\n"
   ]
  },
  {
   "cell_type": "markdown",
   "metadata": {},
   "source": [
    "Aunque el formalismo se definió originalmente para una solución infinitamente diluida, se ha utilizado con resultados satisfactorios para el tratamiento termodinámico de hierros y aceros fundidos.\n",
    "\n",
    "Para aceros con alta aleación, es necesario utilizar parámetros de interacción de orden superior."
   ]
  },
  {
   "cell_type": "markdown",
   "metadata": {},
   "source": [
    "## 1.4 Referencias"
   ]
  },
  {
   "cell_type": "markdown",
   "metadata": {},
   "source": [
    "[[Ref.1](https://www.jstage.jst.go.jp/article/isijinternational1966/28/3/28_3_153/_pdf)]\n",
    "Ichise, E., & Moro-Oka, A. (1988).   \n",
    "Interaction Parameter in Liquid Iron Alloys.    \n",
    "Transactions of the Iron and Steel Institute of Japan, 28(3), 153-163.   \n",
    "\n",
    "[[Ref.2](https://www.researchgate.net/publication/233686082_The_Thermodynamics_of_Liquid_Dilute_Iron_Alloys)]\n",
    "Sigworth, G. K., & Elliott, J. F. (1974).    \n",
    "The thermodynamics of liquid dilute iron alloys.    \n",
    "Metal science, 8(1), 298-310.     "
   ]
  },
  {
   "cell_type": "markdown",
   "metadata": {},
   "source": []
  }
 ],
 "metadata": {
  "kernelspec": {
   "display_name": "Python 3",
   "language": "python",
   "name": "python3"
  },
  "language_info": {
   "name": "python",
   "version": "3.10.12"
  }
 },
 "nbformat": 4,
 "nbformat_minor": 2
}
