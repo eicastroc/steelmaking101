{
 "cells": [
  {
   "cell_type": "markdown",
   "id": "33fdbcd9",
   "metadata": {},
   "source": [
    "# Iniciación en Python con Aplicaciones en Aceración (module 03)\n",
    "\n",
    "**Dr. Edgar Ivan Castro Cedeño**\n",
    "\n",
    "[edgar.castro@cinvestav.mx](mailto:edgar.castro@cinvestav.mx)"
   ]
  },
  {
   "cell_type": "markdown",
   "id": "185ee499",
   "metadata": {},
   "source": [
    "# 1. Contexto metalúrgico"
   ]
  },
  {
   "cell_type": "markdown",
   "id": "5c3f674d",
   "metadata": {},
   "source": [
    "La chatarra es una materia prima de gran importancia para los procesos de aceración primarios, tanto en el convertidor (BOF) como en el horno eléctrico (EAF).\n",
    "\n",
    "El conocimiento de la cinética de incorporación de la chatarra."
   ]
  },
  {
   "cell_type": "markdown",
   "id": "ced50e0f",
   "metadata": {},
   "source": [
    "# 2. Fundamentos de incorporación de adiciones en baños de metal fundido"
   ]
  },
  {
   "cell_type": "markdown",
   "id": "18b21827",
   "metadata": {},
   "source": [
    "## 2.1 Clasificación por mecanismos de incorporación subyacentes"
   ]
  },
  {
   "cell_type": "markdown",
   "id": "e3576f09",
   "metadata": {},
   "source": [
    "La incorporación de adiciones se define como el proceso de transferencia de masa y disolución de especies químicas de un material que es añadido a un baño de metal fundido.\n",
    "\n",
    "De acuerdo con el mecanismo de incorporación subyacente que domine el proceso de incorporación, las adiciones se pueden clasificar en tres grupos, que se mencionan debajo. La clasificación de un material en un grupo dado"
   ]
  },
  {
   "cell_type": "markdown",
   "id": "7d9d8d60",
   "metadata": {},
   "source": [
    "### 2.1.1 Grupo I"
   ]
  },
  {
   "cell_type": "markdown",
   "id": "1f52a3c9",
   "metadata": {},
   "source": [
    "El rango de fusión del material de la adición es menor que la temperatura de trabajo del baño.\n",
    "\n",
    "En este caso proceso de incorporación está regido por mecanismos de transferencia de calor, i.e., la adición se incorpora en el metal fundido al derretirse.\n",
    "\n",
    "**Ejemplos**:\n",
    "\n",
    "- FeMn en un baño de acero.\n",
    "- FeV en un baño de acero.\n",
    "- Al en un baño de acero.\n"
   ]
  },
  {
   "cell_type": "markdown",
   "id": "907a7f0e",
   "metadata": {},
   "source": [
    "### 2.1.2 Grupo II"
   ]
  },
  {
   "cell_type": "markdown",
   "id": "b2d90cb7",
   "metadata": {},
   "source": [
    "El rango de fusión del material de la adición es mayor que la temperatura de trabajo del baño.\n",
    "\n",
    "En este caso el proceso de incorporación está regido por mecanismos de transporte de especies químicas (difusión), i.e., la adición se incorpora en el metal fundido al disolverse.\n",
    "\n",
    "**Ejemplos:**\n",
    "\n",
    "- Cr en un baño de acero.\n",
    "- V en un baño de acero.\n",
    "- FeNb en un baño de acero."
   ]
  },
  {
   "cell_type": "markdown",
   "id": "a9453592",
   "metadata": {},
   "source": [
    "### 2.1.3 Grupo III"
   ]
  },
  {
   "cell_type": "markdown",
   "id": "0afce9bd",
   "metadata": {},
   "source": [
    "Independientemente del rango de fusión del material, durante la incorporación existen ocurren reacciones exotérmicas que aceleran el proceso.\n",
    "\n",
    "En este caso, la disolución está regida por mecanismos mixtos complejos.\n",
    "\n",
    "**Ejemplos:**\n",
    "\n",
    "- Ti en un baño de acero.\n",
    "- Nb en un baño de acero."
   ]
  },
  {
   "cell_type": "markdown",
   "id": "294717a8",
   "metadata": {},
   "source": [
    "## 2.2 Periodos característicos en la incorporación"
   ]
  },
  {
   "cell_type": "markdown",
   "id": "3cc05a79",
   "metadata": {},
   "source": [
    "El tiempo de incorporación de una adición, independientemente del grupo al que pertenezca, está caracterizado por la existencia de dos periodos que pueden distinguirse claramente:\n",
    "\n",
    " - **Periodo de costra:** Justo después de la inmersión de la adicíon en el baño, ocurre la formación de una costra de material del baño que se solidifica alrededor de la adición. Esto es porque la adición, que inicialmente está fría, provoca enfriamiento del baño a nivel local. Al transcurrir el tiempo la costra cambia de tamaño, i.e., inicialmente se engrosa y posteriormente se abate hasta desaparecer.\n",
    "\n",
    " - **Periodo de disolución libre:** Una vez que la costra ha desaparecido, la adición entra en contacto directo con el baño, y dependiendo del grupo al que pertenezca (I, II, III), se incorpora por alguno de los mecanismos descritos arriba."
   ]
  },
  {
   "cell_type": "markdown",
   "id": "f249b75e",
   "metadata": {},
   "source": [
    "$$t_{\\mathrm{incorporación}} = t_{\\mathrm{costra}} + t_{\\mathrm{libre}}$$"
   ]
  },
  {
   "cell_type": "markdown",
   "id": "edb12a6b",
   "metadata": {},
   "source": []
  }
 ],
 "metadata": {
  "kernelspec": {
   "display_name": ".venv",
   "language": "python",
   "name": "python3"
  },
  "language_info": {
   "name": "python",
   "version": "3.10.12"
  }
 },
 "nbformat": 4,
 "nbformat_minor": 5
}
