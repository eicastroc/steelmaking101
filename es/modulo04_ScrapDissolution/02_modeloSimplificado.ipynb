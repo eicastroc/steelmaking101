{
 "cells": [
  {
   "cell_type": "markdown",
   "id": "9ed1ab3b",
   "metadata": {},
   "source": [
    "# Modelo simplificado"
   ]
  },
  {
   "cell_type": "markdown",
   "id": "75508c4f",
   "metadata": {},
   "source": [
    "## Periodo de costra"
   ]
  },
  {
   "cell_type": "markdown",
   "id": "afc0e310",
   "metadata": {},
   "source": [
    "### Posición de la interfase costra-metal"
   ]
  },
  {
   "cell_type": "markdown",
   "id": "9785fe7a",
   "metadata": {},
   "source": [
    "$$\\frac{ds}{dt} = \\frac{F_{\\mathrm{conv}} - F_{\\mathrm{diff}}}{4 r_{0}^{3} s^{2} \\rho_{bath} H_{\\mathrm{lat,bath}}}$$\n",
    "\n",
    "$$F_{\\mathrm{conv}} = -4 \\left(s r_{0}\\right)^2 h \\left(T_{\\mathrm{bath}} - T_{\\mathrm{shell}}\\right)$$\n",
    "\n",
    "$$F_{\\mathrm{diff}} = -4 \\frac{\\left(s r_{0}\\right)}{s-1} \\lambda_{\\mathrm{bath}} \\left(T_{\\mathrm{shell}} - T_{\\mathrm{add}}\\right)$$"
   ]
  },
  {
   "cell_type": "markdown",
   "id": "574926d4",
   "metadata": {
    "vscode": {
     "languageId": "plaintext"
    }
   },
   "source": [
    "### Tasa de calentamiento de la adición"
   ]
  },
  {
   "cell_type": "markdown",
   "id": "c28d0dfa",
   "metadata": {},
   "source": [
    "$$\\frac{dH_{\\mathrm{add}}}{dt} = \\frac{-F_{\\mathrm{diff}}}{\\frac{4}{3} r_{0}^{3} \\rho_{\\mathrm{add}}}$$\n",
    "\n",
    "$$H_{\\mathrm{add}} = \\int_{T_{0}}^{T} C_{P,\\mathrm{add}} dT + g_{l} H_{\\mathrm{lat,add}}$$"
   ]
  },
  {
   "cell_type": "code",
   "execution_count": null,
   "id": "de92cd8c",
   "metadata": {},
   "outputs": [],
   "source": [
    "def dSdt(t,s,r0, Fconv, Fdiff):\n"
   ]
  },
  {
   "cell_type": "markdown",
   "id": "be453ab2",
   "metadata": {},
   "source": []
  }
 ],
 "metadata": {
  "kernelspec": {
   "display_name": "Python 3",
   "language": "python",
   "name": "python3"
  },
  "language_info": {
   "name": "python",
   "version": "3.10.12"
  }
 },
 "nbformat": 4,
 "nbformat_minor": 5
}
