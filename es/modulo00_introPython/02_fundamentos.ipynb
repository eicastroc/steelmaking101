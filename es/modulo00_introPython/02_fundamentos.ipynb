{
 "cells": [
  {
   "cell_type": "markdown",
   "metadata": {},
   "source": [
    "# Iniciación en Python con Aplicaciones en Aceración (module 00)\n",
    "\n",
    "**Dr. Edgar Ivan Castro Cedeño**\n",
    "\n",
    "[edgar.castro@cinvestav.mx](mailto:edgar.castro@cinvestav.mx)"
   ]
  },
  {
   "cell_type": "markdown",
   "metadata": {},
   "source": [
    "# 2. Fundamentos"
   ]
  },
  {
   "cell_type": "markdown",
   "metadata": {},
   "source": [
    "## 2.1 Tipos de datos básicos"
   ]
  },
  {
   "cell_type": "markdown",
   "metadata": {},
   "source": [
    "### 2.1.1 Números enteros (integers)"
   ]
  },
  {
   "cell_type": "code",
   "execution_count": 1,
   "metadata": {},
   "outputs": [
    {
     "data": {
      "text/plain": [
       "int"
      ]
     },
     "execution_count": 1,
     "metadata": {},
     "output_type": "execute_result"
    }
   ],
   "source": [
    "i0 = 1\n",
    "type(i0)"
   ]
  },
  {
   "cell_type": "code",
   "execution_count": 37,
   "metadata": {},
   "outputs": [
    {
     "name": "stdout",
     "output_type": "stream",
     "text": [
      "<class 'int'> <class 'int'>\n"
     ]
    }
   ],
   "source": [
    "# definición \"dura\"\n",
    "i1 = int(10.5)\n",
    "i2 = int(3)\n",
    "print(type(i1), type(i2))"
   ]
  },
  {
   "cell_type": "code",
   "execution_count": 38,
   "metadata": {},
   "outputs": [
    {
     "name": "stdout",
     "output_type": "stream",
     "text": [
      "10\n"
     ]
    }
   ],
   "source": [
    "print(i1)"
   ]
  },
  {
   "cell_type": "code",
   "execution_count": 39,
   "metadata": {},
   "outputs": [
    {
     "data": {
      "text/plain": [
       "13"
      ]
     },
     "execution_count": 39,
     "metadata": {},
     "output_type": "execute_result"
    }
   ],
   "source": [
    "i1+i2"
   ]
  },
  {
   "cell_type": "code",
   "execution_count": 3,
   "metadata": {},
   "outputs": [
    {
     "name": "stdout",
     "output_type": "stream",
     "text": [
      "13\n",
      "7\n"
     ]
    }
   ],
   "source": [
    "# suma y resta\n",
    "print(i1 + i2)\n",
    "print(i1 - i2)"
   ]
  },
  {
   "cell_type": "code",
   "execution_count": 41,
   "metadata": {},
   "outputs": [
    {
     "name": "stdout",
     "output_type": "stream",
     "text": [
      "16\n"
     ]
    }
   ],
   "source": [
    "i0 = i1 + 2*i2\n",
    "print(i0)"
   ]
  },
  {
   "cell_type": "code",
   "execution_count": 4,
   "metadata": {},
   "outputs": [
    {
     "name": "stdout",
     "output_type": "stream",
     "text": [
      "30\n",
      "3.3333333333333335\n",
      "3\n"
     ]
    }
   ],
   "source": [
    "# multiplicación y división\n",
    "print(i1 * i2)\n",
    "print(i1 / i2) # división de punto flotante\n",
    "print(i1 // i2) # división de enteros"
   ]
  },
  {
   "cell_type": "code",
   "execution_count": null,
   "metadata": {},
   "outputs": [],
   "source": []
  },
  {
   "cell_type": "markdown",
   "metadata": {},
   "source": [
    "### 2.1.2 Números de punto flotante (floats)"
   ]
  },
  {
   "cell_type": "code",
   "execution_count": 45,
   "metadata": {},
   "outputs": [
    {
     "data": {
      "text/plain": [
       "float"
      ]
     },
     "execution_count": 45,
     "metadata": {},
     "output_type": "execute_result"
    }
   ],
   "source": [
    "f0 = 1.0\n",
    "type(f0)"
   ]
  },
  {
   "cell_type": "code",
   "execution_count": 6,
   "metadata": {},
   "outputs": [
    {
     "name": "stdout",
     "output_type": "stream",
     "text": [
      "<class 'float'> <class 'float'>\n"
     ]
    }
   ],
   "source": [
    "# definición \"dura\"\n",
    "f1 = float(10)\n",
    "f2 = float(3)\n",
    "print(type(f1), type(f2))"
   ]
  },
  {
   "cell_type": "code",
   "execution_count": 7,
   "metadata": {},
   "outputs": [
    {
     "name": "stdout",
     "output_type": "stream",
     "text": [
      "13.0\n",
      "7.0\n"
     ]
    }
   ],
   "source": [
    "# suma y resta\n",
    "print(f1 + f2)\n",
    "print(f1 - f2)"
   ]
  },
  {
   "cell_type": "code",
   "execution_count": 8,
   "metadata": {},
   "outputs": [
    {
     "name": "stdout",
     "output_type": "stream",
     "text": [
      "30.0\n",
      "3.3333333333333335\n",
      "3.0\n"
     ]
    }
   ],
   "source": [
    "# multiplicación y división\n",
    "print(f1 * f2)\n",
    "print(f1 / f2) # división de punto flotante\n",
    "print(f1 // f2) # división de enteros"
   ]
  },
  {
   "cell_type": "code",
   "execution_count": 48,
   "metadata": {},
   "outputs": [
    {
     "name": "stdout",
     "output_type": "stream",
     "text": [
      "<class 'float'>\n"
     ]
    }
   ],
   "source": [
    "a = type(f1 // f2)\n",
    "print(a)"
   ]
  },
  {
   "cell_type": "markdown",
   "metadata": {},
   "source": [
    "### 2.1.3 Cadenas de caracteres (strings)"
   ]
  },
  {
   "cell_type": "code",
   "execution_count": 50,
   "metadata": {},
   "outputs": [
    {
     "data": {
      "text/plain": [
       "str"
      ]
     },
     "execution_count": 50,
     "metadata": {},
     "output_type": "execute_result"
    }
   ],
   "source": [
    "s0 = \"hola\"\n",
    "type(s0)"
   ]
  },
  {
   "cell_type": "code",
   "execution_count": 10,
   "metadata": {},
   "outputs": [
    {
     "name": "stdout",
     "output_type": "stream",
     "text": [
      "<class 'str'> <class 'str'>\n"
     ]
    }
   ],
   "source": [
    "# definición \"dura\"\n",
    "s1 = str(10)\n",
    "s2 = str(3)\n",
    "print(type(s1), type(s2))"
   ]
  },
  {
   "cell_type": "code",
   "execution_count": 11,
   "metadata": {},
   "outputs": [
    {
     "name": "stdout",
     "output_type": "stream",
     "text": [
      "103\n",
      "holahola\n"
     ]
    }
   ],
   "source": [
    "# suma (la resta no está definida)\n",
    "print(s1 + s2)\n",
    "print(s0 + s0)"
   ]
  },
  {
   "cell_type": "code",
   "execution_count": 54,
   "metadata": {},
   "outputs": [
    {
     "name": "stdout",
     "output_type": "stream",
     "text": [
      "1010101010\n"
     ]
    }
   ],
   "source": [
    "# multiplicación [int*str] (la división no está definida)\n",
    "print(5 * s1)"
   ]
  },
  {
   "cell_type": "markdown",
   "metadata": {},
   "source": [
    "### 2.1.4 Datos lógicos (booleans)"
   ]
  },
  {
   "cell_type": "code",
   "execution_count": 13,
   "metadata": {},
   "outputs": [
    {
     "name": "stdout",
     "output_type": "stream",
     "text": [
      "<class 'bool'> <class 'bool'>\n"
     ]
    }
   ],
   "source": [
    "b0 = False\n",
    "b1 = True\n",
    "print(type(b0), type(b1))"
   ]
  },
  {
   "cell_type": "code",
   "execution_count": 14,
   "metadata": {},
   "outputs": [
    {
     "name": "stdout",
     "output_type": "stream",
     "text": [
      "<class 'bool'> <class 'bool'> <class 'bool'>\n"
     ]
    }
   ],
   "source": [
    "# definición \"dura\"\n",
    "b0 = bool(0)\n",
    "b1 = bool(1)\n",
    "b2 = bool(-1) # ¿Qué valor dará?\n",
    "print(type(b0), type(b1), type(b2))"
   ]
  },
  {
   "cell_type": "code",
   "execution_count": 15,
   "metadata": {},
   "outputs": [
    {
     "name": "stdout",
     "output_type": "stream",
     "text": [
      "False True True\n"
     ]
    }
   ],
   "source": [
    "print(b0, b1, b2)"
   ]
  },
  {
   "cell_type": "code",
   "execution_count": 16,
   "metadata": {},
   "outputs": [
    {
     "name": "stdout",
     "output_type": "stream",
     "text": [
      "True\n",
      "True\n"
     ]
    }
   ],
   "source": [
    "# suma\n",
    "print(bool(b0 + b1 + b2))\n",
    "print(b0 or b1 or b2)"
   ]
  },
  {
   "cell_type": "code",
   "execution_count": 57,
   "metadata": {},
   "outputs": [
    {
     "name": "stdout",
     "output_type": "stream",
     "text": [
      "False\n",
      "True\n"
     ]
    }
   ],
   "source": [
    "# multiplicación\n",
    "print(bool(b0 * b1 * b2))\n",
    "print(b1 and b2)"
   ]
  },
  {
   "cell_type": "markdown",
   "metadata": {},
   "source": [
    "## 2.2 Estructuras de datos básicas"
   ]
  },
  {
   "cell_type": "markdown",
   "metadata": {},
   "source": [
    "### 2.2.1 Listas"
   ]
  },
  {
   "cell_type": "markdown",
   "metadata": {},
   "source": [
    "Una lista es una estructura de datos ordenada que almacena una secuencia ordenada de elementos de cualquier tipo.\n",
    "\n",
    "Una lista puede ser modificada despues de su creación."
   ]
  },
  {
   "cell_type": "code",
   "execution_count": 18,
   "metadata": {},
   "outputs": [
    {
     "name": "stdout",
     "output_type": "stream",
     "text": [
      "<class 'list'> <class 'list'> <class 'list'> <class 'list'>\n"
     ]
    }
   ],
   "source": [
    "li = [0, 1, 2, 3]\n",
    "lf = [0.0, 1.0, 2.0, 3.0]\n",
    "ls = ['cero', 'uno', 'dos', 'tres']\n",
    "lb = [False, True]\n",
    "print(type(li), type(lf), type(ls), type(lb))"
   ]
  },
  {
   "cell_type": "code",
   "execution_count": 19,
   "metadata": {},
   "outputs": [
    {
     "name": "stdout",
     "output_type": "stream",
     "text": [
      "[False, 1, 2.0, 'tres']\n"
     ]
    }
   ],
   "source": [
    "# en una misma lista se pueden combinar distintos tipos de datos\n",
    "lc = [False, 1, 2.0, 'tres']\n",
    "print(lc)"
   ]
  },
  {
   "cell_type": "code",
   "execution_count": 59,
   "metadata": {},
   "outputs": [
    {
     "name": "stdout",
     "output_type": "stream",
     "text": [
      "[[1, 0, 0], [0, 1, 0], [0, 0, 1]]\n"
     ]
    }
   ],
   "source": [
    "# una estructura puede ser multi-dimensional\n",
    "l0 = [[1, 0, 0], [0, 1, 0], [0, 0, 1]]\n",
    "print(l0)"
   ]
  },
  {
   "cell_type": "code",
   "execution_count": 21,
   "metadata": {},
   "outputs": [
    {
     "name": "stdout",
     "output_type": "stream",
     "text": [
      "[1, 0, 0]\n",
      "1 0 0\n"
     ]
    }
   ],
   "source": [
    "# visitando elementos de una lista\n",
    "print(l0[0])\n",
    "print(l0[0][0], l0[0][1], l0[0][2])"
   ]
  },
  {
   "cell_type": "code",
   "execution_count": 63,
   "metadata": {},
   "outputs": [
    {
     "name": "stdout",
     "output_type": "stream",
     "text": [
      "[[1, 0, 0], [0, 2, 0], [0, 0, 3]]\n"
     ]
    }
   ],
   "source": [
    "# modificando elementos de una lista\n",
    "l0[1][1] = 2\n",
    "l0[2][2] = 3\n",
    "print(l0)"
   ]
  },
  {
   "cell_type": "markdown",
   "metadata": {},
   "source": [
    "### 2.2.2 Tuples\n",
    "\n"
   ]
  },
  {
   "cell_type": "markdown",
   "metadata": {},
   "source": [
    "Un tuple es una estructura de datos ordenada que almacena una secuencia ordenada de elementos de cualquier tipo.\n",
    "\n",
    "Una tuple no puede ser modificado después de su creación"
   ]
  },
  {
   "cell_type": "code",
   "execution_count": 23,
   "metadata": {},
   "outputs": [
    {
     "name": "stdout",
     "output_type": "stream",
     "text": [
      "<class 'tuple'> <class 'tuple'> <class 'tuple'> <class 'tuple'>\n"
     ]
    }
   ],
   "source": [
    "ti = (0, 1, 2, 3)\n",
    "tf = (0.0, 1.0, 2.0, 3.0)\n",
    "ts = ('cero', 'uno', 'dos', 'tres')\n",
    "tb = (False, True)\n",
    "print(type(ti), type(tf), type(ts), type(tb))"
   ]
  },
  {
   "cell_type": "code",
   "execution_count": 24,
   "metadata": {},
   "outputs": [
    {
     "name": "stdout",
     "output_type": "stream",
     "text": [
      "((1, 0, 0), (0, 1, 0), (0, 0, 1))\n"
     ]
    }
   ],
   "source": [
    "# una estructura puede ser multi-dimensional\n",
    "t0 = ((1, 0, 0), (0, 1, 0), (0, 0, 1))\n",
    "print(t0)"
   ]
  },
  {
   "cell_type": "code",
   "execution_count": 64,
   "metadata": {},
   "outputs": [
    {
     "ename": "TypeError",
     "evalue": "'tuple' object does not support item assignment",
     "output_type": "error",
     "traceback": [
      "\u001b[0;31m---------------------------------------------------------------------------\u001b[0m",
      "\u001b[0;31mTypeError\u001b[0m                                 Traceback (most recent call last)",
      "Cell \u001b[0;32mIn[64], line 3\u001b[0m\n\u001b[1;32m      1\u001b[0m \u001b[38;5;66;03m# un tuple no se puede modificar\u001b[39;00m\n\u001b[1;32m      2\u001b[0m \u001b[38;5;66;03m# El código comentado debajo da un error\u001b[39;00m\n\u001b[0;32m----> 3\u001b[0m \u001b[43mt0\u001b[49m\u001b[43m[\u001b[49m\u001b[38;5;241;43m0\u001b[39;49m\u001b[43m]\u001b[49m\u001b[43m[\u001b[49m\u001b[38;5;241;43m0\u001b[39;49m\u001b[43m]\u001b[49m \u001b[38;5;241m=\u001b[39m \u001b[38;5;241m3\u001b[39m\n",
      "\u001b[0;31mTypeError\u001b[0m: 'tuple' object does not support item assignment"
     ]
    }
   ],
   "source": [
    "# un tuple no se puede modificar\n",
    "# El código comentado debajo da un error\n",
    "#t0[0][0] = 3"
   ]
  },
  {
   "cell_type": "markdown",
   "metadata": {},
   "source": [
    "### 2.2.3 Diccionarios"
   ]
  },
  {
   "cell_type": "markdown",
   "metadata": {},
   "source": [
    "Los diccionarios son estructuras que permiten almacenar datos bajo una estructura de pares del tipo `llave: valor`, en donde la `llave` es una cadena de caracteres y el `valor` son datos de cualquier tipo."
   ]
  },
  {
   "cell_type": "code",
   "execution_count": 65,
   "metadata": {},
   "outputs": [
    {
     "data": {
      "text/plain": [
       "dict"
      ]
     },
     "execution_count": 65,
     "metadata": {},
     "output_type": "execute_result"
    }
   ],
   "source": [
    "d0 = {\n",
    "    'nombre(s)': 'Edgar Ivan',\n",
    "    'apellido paterno': 'Castro',\n",
    "    'apellido materno': 'Cedeno',\n",
    "    'edad': float(35)\n",
    "}\n",
    "type(d0)"
   ]
  },
  {
   "cell_type": "code",
   "execution_count": 27,
   "metadata": {},
   "outputs": [
    {
     "data": {
      "text/plain": [
       "dict_keys(['nombre(s)', 'apellido paterno', 'apellido materno', 'edad'])"
      ]
     },
     "execution_count": 27,
     "metadata": {},
     "output_type": "execute_result"
    }
   ],
   "source": [
    "# Extraer llaves de un diccionario\n",
    "d0.keys()"
   ]
  },
  {
   "cell_type": "code",
   "execution_count": 28,
   "metadata": {},
   "outputs": [
    {
     "data": {
      "text/plain": [
       "dict_items([('nombre(s)', 'Edgar Ivan'), ('apellido paterno', 'Castro'), ('apellido materno', 'Cedeno'), ('edad', 35)])"
      ]
     },
     "execution_count": 28,
     "metadata": {},
     "output_type": "execute_result"
    }
   ],
   "source": [
    "# extraer valores de un diccionario\n",
    "d0.items()"
   ]
  },
  {
   "cell_type": "code",
   "execution_count": 66,
   "metadata": {},
   "outputs": [
    {
     "name": "stdout",
     "output_type": "stream",
     "text": [
      "nombre(s) ->>> Edgar Ivan\n",
      "apellido paterno ->>> Castro\n",
      "apellido materno ->>> Cedeno\n",
      "edad ->>> 35.0\n"
     ]
    }
   ],
   "source": [
    "# iterando sobre el contenido de un diccionario\n",
    "for key, value in d0.items():\n",
    "    print(f\"{key} ->>> {value}\")"
   ]
  },
  {
   "cell_type": "markdown",
   "metadata": {},
   "source": [
    "## 2.3 Funciones"
   ]
  },
  {
   "cell_type": "markdown",
   "metadata": {},
   "source": [
    "### 2.3.1 Estructura básica de una función"
   ]
  },
  {
   "cell_type": "code",
   "execution_count": 30,
   "metadata": {},
   "outputs": [],
   "source": [
    "def square(x):\n",
    "    return x**2"
   ]
  },
  {
   "cell_type": "code",
   "execution_count": 67,
   "metadata": {},
   "outputs": [],
   "source": [
    "def cube(x):\n",
    "    return x**3"
   ]
  },
  {
   "cell_type": "code",
   "execution_count": 68,
   "metadata": {},
   "outputs": [
    {
     "name": "stdout",
     "output_type": "stream",
     "text": [
      "1\n",
      "64\n"
     ]
    }
   ],
   "source": [
    "print(square(1))\n",
    "print(cube(4))"
   ]
  },
  {
   "cell_type": "code",
   "execution_count": 32,
   "metadata": {},
   "outputs": [
    {
     "name": "stdout",
     "output_type": "stream",
     "text": [
      "Help on function square in module __main__:\n",
      "\n",
      "square(x)\n",
      "\n"
     ]
    }
   ],
   "source": [
    "help(square)"
   ]
  },
  {
   "cell_type": "code",
   "execution_count": 70,
   "metadata": {},
   "outputs": [],
   "source": [
    "# Una buena práctica es documentar las funciones\n",
    "def square(x:float) -> float:\n",
    "    \"\"\"\n",
    "    square of a number\n",
    "\n",
    "    Parameters\n",
    "    ----------\n",
    "    x : float\n",
    "        a given number.\n",
    "\n",
    "    Returns\n",
    "    -------\n",
    "    float\n",
    "        square of a given number.\n",
    "\n",
    "    \"\"\"\n",
    "    return x**2"
   ]
  },
  {
   "cell_type": "code",
   "execution_count": 34,
   "metadata": {},
   "outputs": [
    {
     "name": "stdout",
     "output_type": "stream",
     "text": [
      "Help on function square in module __main__:\n",
      "\n",
      "square(x: float) -> float\n",
      "    square of a number\n",
      "    \n",
      "    Parameters\n",
      "    ----------\n",
      "    x : float\n",
      "        a given number.\n",
      "    \n",
      "    Returns\n",
      "    -------\n",
      "    float\n",
      "        square of a given number.\n",
      "\n"
     ]
    }
   ],
   "source": [
    "help(square)"
   ]
  },
  {
   "cell_type": "markdown",
   "metadata": {},
   "source": [
    "### 2.3.2 Estructuras más elaboradas"
   ]
  },
  {
   "cell_type": "code",
   "execution_count": 35,
   "metadata": {},
   "outputs": [],
   "source": [
    "def funcion(x):\n",
    "    num = x**2\n",
    "    den = x**3\n",
    "    return num/den"
   ]
  },
  {
   "cell_type": "code",
   "execution_count": 36,
   "metadata": {},
   "outputs": [
    {
     "name": "stdout",
     "output_type": "stream",
     "text": [
      "1.0\n",
      "0.5\n",
      "0.3333333333333333\n"
     ]
    }
   ],
   "source": [
    "print(funcion(1)) \n",
    "print(funcion(2)) # 4/8\n",
    "print(funcion(3)) # 9/27 = 1/3"
   ]
  },
  {
   "cell_type": "markdown",
   "metadata": {},
   "source": [
    "## 2.4 Referencias / Documentación"
   ]
  },
  {
   "cell_type": "markdown",
   "metadata": {},
   "source": [
    "- https://www.python.org/doc/\n",
    "\n",
    "- https://link.springer.com/book/10.1007/978-1-4842-4246-9"
   ]
  }
 ],
 "metadata": {
  "kernelspec": {
   "display_name": "Python 3",
   "language": "python",
   "name": "python3"
  },
  "language_info": {
   "codemirror_mode": {
    "name": "ipython",
    "version": 3
   },
   "file_extension": ".py",
   "mimetype": "text/x-python",
   "name": "python",
   "nbconvert_exporter": "python",
   "pygments_lexer": "ipython3",
   "version": "3.10.12"
  }
 },
 "nbformat": 4,
 "nbformat_minor": 2
}
