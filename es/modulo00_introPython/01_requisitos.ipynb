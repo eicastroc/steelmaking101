{
 "cells": [
  {
   "cell_type": "markdown",
   "metadata": {},
   "source": [
    "# Iniciación en Python con Aplicaciones en Aceración (module 00)\n",
    "\n",
    "**Dr. Edgar Ivan Castro Cedeño**\n",
    "\n",
    "[edgar.castro@cinvestav.mx](mailto:edgar.castro@cinvestav.mx)"
   ]
  },
  {
   "cell_type": "markdown",
   "metadata": {},
   "source": [
    "# 1. Requisitos para el curso"
   ]
  },
  {
   "cell_type": "markdown",
   "metadata": {},
   "source": [
    "## 1.1 Python"
   ]
  },
  {
   "cell_type": "markdown",
   "metadata": {},
   "source": [
    "### 1.1.1 Instalación Básica"
   ]
  },
  {
   "cell_type": "markdown",
   "metadata": {},
   "source": [
    "Python es un lenguaje de programación de alto nivel. Es un lenguaje interpretado, dinámico y multiplataforma.\n",
    "\n",
    "Para este curso se recomienda la instalación de Python desde los repositorios oficiales:  https://www.python.org/downloads/"
   ]
  },
  {
   "cell_type": "markdown",
   "metadata": {},
   "source": [
    "### 1.1.2 Alternativas"
   ]
  },
  {
   "cell_type": "markdown",
   "metadata": {},
   "source": [
    "Existen redistribuciones de Python que tienen precargadas una gran canditad de paquetes científicos, como por ejemplo Anaconda.\n",
    "\n",
    "https://www.anaconda.com/download"
   ]
  },
  {
   "cell_type": "markdown",
   "metadata": {},
   "source": [
    "---"
   ]
  },
  {
   "cell_type": "markdown",
   "metadata": {},
   "source": [
    "## 1.2 Visual Studio code"
   ]
  },
  {
   "cell_type": "markdown",
   "metadata": {},
   "source": [
    "Visual Studio Code (VS Code) es un editor de cógido fuente desarrollado por Microsoft para Windows, Linux, macOS y Web. Es un software gratuito y de código abierto."
   ]
  },
  {
   "cell_type": "markdown",
   "metadata": {},
   "source": [
    "https://code.visualstudio.com/download"
   ]
  },
  {
   "cell_type": "markdown",
   "metadata": {},
   "source": [
    "Una vez que se ha instalado VS Code, dentro del programa se requieren instalar las extensiones de **Python** y **Jupyter**. Esto se lleva a cabo en la ventana **Extensiones**, que se puede abrir al hacer click en su ícono correspondiente, en la cinta desplegable a la izquierda de la ventana del programa."
   ]
  },
  {
   "cell_type": "markdown",
   "metadata": {},
   "source": [
    "<center>\n",
    "\n",
    "![](images/vscode_extension_python.png \"Python extension\")\n",
    "\n",
    "![](images/vscode_extension_jupyter.png \"Jupyter extension\")\n",
    "\n",
    "</center>"
   ]
  },
  {
   "cell_type": "markdown",
   "metadata": {},
   "source": [
    "---"
   ]
  },
  {
   "cell_type": "markdown",
   "metadata": {},
   "source": [
    "## 1.3 Instalación de librerías"
   ]
  },
  {
   "cell_type": "markdown",
   "metadata": {},
   "source": [
    "Un paquete o librería de Python es software adicional que permite extender la funcionalidad de Python, y que debe instalarse para poder ser utilizado.\n",
    "\n",
    "Existen distintas formas de instalar librerías, y dependerán del tipo de instalación, y si se usará el editor VS Code."
   ]
  },
  {
   "cell_type": "markdown",
   "metadata": {},
   "source": [
    "### 1.3.1 Instalación básica"
   ]
  },
  {
   "cell_type": "markdown",
   "metadata": {},
   "source": [
    "\n",
    "\n",
    "El gestor de paquetes de Python se llama `pip` (Package Installer for Python), y se accede al mismo a partir de la terminal del sistema."
   ]
  },
  {
   "cell_type": "markdown",
   "metadata": {},
   "source": [
    "Para instalar los paquetes requeridos se escribe en la terminal:\n",
    "\n",
    "    pip install numpy\n",
    "    pip install matplotlib\n",
    "    pip install scipy\n",
    "    pip install pandas\n",
    "    pip install xlrd\n",
    "    pip install jupyterlab\n",
    "    pip install notebook"
   ]
  },
  {
   "cell_type": "markdown",
   "metadata": {},
   "source": [
    "### 1.3.2 Usando el editor VS Code"
   ]
  },
  {
   "cell_type": "markdown",
   "metadata": {},
   "source": [
    "Es recomendable crear un `virtual environment` para controlar finamente las librerías que se usan en cada proyecto, y evitar problemas de compatibilidad.\n",
    "\n",
    "<center>\n",
    "\n",
    "![](images/vscode_venv.png \"venv\")\n",
    "\n",
    "\n",
    "</center>"
   ]
  },
  {
   "cell_type": "markdown",
   "metadata": {},
   "source": [
    "Una vez que se ha creado el `virtual environment`, se abre una terminal en VS Code, y se instalan los paquetes utilizando `pip`.\n",
    "\n",
    "<center>\n",
    "\n",
    "![](images/vscode_open_terminal.png \"terminal\")\n",
    "\n",
    "\n",
    "</center>"
   ]
  },
  {
   "cell_type": "markdown",
   "metadata": {},
   "source": [
    "De forma compacta se puede escribir en la terminal:\n",
    "\n",
    "    pip install numpy matplotlib scipy pandas xlrd jupyterlab notebook"
   ]
  },
  {
   "cell_type": "markdown",
   "metadata": {},
   "source": [
    "### 1.3.3 Anaconda"
   ]
  },
  {
   "cell_type": "markdown",
   "metadata": {},
   "source": [
    "Normalmente las librerías requeridas ya vienen integradas con la instalación de Anaconda.\n",
    "\n",
    "En caso de no ser así se deben instalar usando una terminal, por ejemplo para instalar `numpy` se usa el comando: \n",
    "\n",
    "    conda install numpy\n"
   ]
  }
 ],
 "metadata": {
  "kernelspec": {
   "display_name": "Python 3",
   "language": "python",
   "name": "python3"
  },
  "language_info": {
   "name": "python",
   "version": "3.10.12"
  }
 },
 "nbformat": 4,
 "nbformat_minor": 2
}
