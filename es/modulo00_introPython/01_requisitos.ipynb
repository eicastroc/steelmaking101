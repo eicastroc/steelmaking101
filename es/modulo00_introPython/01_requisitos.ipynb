{
 "cells": [
  {
   "cell_type": "markdown",
   "metadata": {},
   "source": [
    "# Iniciación en Python con Aplicaciones en Aceración (module 00)\n",
    "\n",
    "**Dr. Edgar Ivan Castro Cedeño**\n",
    "\n",
    "[edgar.castro@cinvestav.mx](mailto:edgar.castro@cinvestav.mx)"
   ]
  },
  {
   "cell_type": "markdown",
   "metadata": {},
   "source": [
    "# 1. Requisitos para el curso"
   ]
  },
  {
   "cell_type": "markdown",
   "metadata": {},
   "source": [
    "## 1.1 Python"
   ]
  },
  {
   "cell_type": "markdown",
   "metadata": {},
   "source": [
    "### 1.1.1 Instalación Básica"
   ]
  },
  {
   "cell_type": "markdown",
   "metadata": {},
   "source": [
    "Python es un lenguaje de programación de alto nivel. Es un lenguaje interpretado, dinámico y multiplataforma.\n",
    "\n",
    "Para este curso se recomienda la instalación de Python desde los repositorios oficiales:  https://www.python.org/downloads/"
   ]
  },
  {
   "cell_type": "markdown",
   "metadata": {},
   "source": [
    "### 1.1.2 Instalación de paquetes"
   ]
  },
  {
   "cell_type": "markdown",
   "metadata": {},
   "source": [
    "Un paquete o librería de Python es software adicional que permite extender la funcionalidad de Python, y que debe instalarse para poder ser utilizado.\n",
    "\n",
    "El gestor de paquetes de Python se llama `pip` (Package Installer for Python), y se accede al mismo a partir de la terminal del sistema."
   ]
  },
  {
   "cell_type": "markdown",
   "metadata": {},
   "source": [
    "Paquetes requeridos en este curso para hacer cálculos y graficar:\n",
    "\n",
    "    pip install numpy\n",
    "    pip install matplotlib\n",
    "    pip install scipy\n",
    "    pip install pandas\n",
    "    pip install xlrd"
   ]
  },
  {
   "cell_type": "markdown",
   "metadata": {},
   "source": [
    "Paquetes requeridos para trabajar con \"notebooks\" interactivos:\n",
    "\n",
    "    pip install jupyterlab\n",
    "    pip install notebook"
   ]
  },
  {
   "cell_type": "markdown",
   "metadata": {},
   "source": [
    "### 1.1.3 Alternativas"
   ]
  },
  {
   "cell_type": "markdown",
   "metadata": {},
   "source": [
    "Existen redistribuciones de Python que tienen precargadas una gran canditad de paquetes científicos, como por ejemplo Anaconda.\n",
    "\n",
    "https://www.anaconda.com/download"
   ]
  },
  {
   "cell_type": "markdown",
   "metadata": {},
   "source": [
    "---"
   ]
  },
  {
   "cell_type": "markdown",
   "metadata": {},
   "source": [
    "## 1.2 Visual Studio code"
   ]
  },
  {
   "cell_type": "markdown",
   "metadata": {},
   "source": [
    "Visual Studio Code (VS Code) es un editor de cógido fuente desarrollado por Microsoft para Windows, Linux, macOS y Web. Es un software gratuito y de código abierto."
   ]
  },
  {
   "cell_type": "markdown",
   "metadata": {},
   "source": [
    "https://code.visualstudio.com/download"
   ]
  },
  {
   "cell_type": "markdown",
   "metadata": {},
   "source": [
    "Una vez que se ha instalado VS Code, dentro del programa se requieren instalar las extensiones de **Python** y **Jupyter**. Esto se lleva a cabo en la ventana **Extensiones**, que se puede abrir al hacer click en su ícono correspondiente, en la cinta desplegable a la izquierda de la ventana del programa."
   ]
  },
  {
   "cell_type": "markdown",
   "metadata": {},
   "source": [
    "---"
   ]
  }
 ],
 "metadata": {
  "kernelspec": {
   "display_name": "Python 3",
   "language": "python",
   "name": "python3"
  },
  "language_info": {
   "name": "python",
   "version": "3.10.12"
  }
 },
 "nbformat": 4,
 "nbformat_minor": 2
}
