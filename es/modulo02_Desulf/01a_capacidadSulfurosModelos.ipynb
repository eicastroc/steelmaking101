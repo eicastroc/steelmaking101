{
 "cells": [
  {
   "cell_type": "markdown",
   "id": "3117b64c",
   "metadata": {},
   "source": [
    "# Iniciación en Python con Aplicaciones en Aceración (module 02)"
   ]
  },
  {
   "cell_type": "markdown",
   "id": "fb3e5321",
   "metadata": {},
   "source": [
    "# 1a. Modelos para el cálculo de capacidad de sulfuros\n",
    "\n",
    "**Dr. Edgar Ivan Castro Cedeño**\n",
    "\n",
    "[edgar.castro@cinvestav.mx](mailto:edgar.castro@cinvestav.mx)"
   ]
  },
  {
   "cell_type": "code",
   "execution_count": 1,
   "id": "48ab454e",
   "metadata": {},
   "outputs": [],
   "source": [
    "import numpy as np\n",
    "import matplotlib.pyplot as plt\n",
    "import src.sulfideCapacityModels as cS"
   ]
  },
  {
   "cell_type": "markdown",
   "id": "273ae06b",
   "metadata": {},
   "source": [
    "## 1.1 Contexto metalúrgico"
   ]
  },
  {
   "cell_type": "markdown",
   "id": "3268f377",
   "metadata": {},
   "source": [
    "La capacidad de sulfuro, $C_s$, es un concepto utilizado ampliamente en pirometalurgia, y que define la capacidad de una escoria fundida homogenea para remover el azufre durante una operación de refinación.\n",
    "\n",
    "Se considera que la capacidad de sulfuro es una propiedad única de cada escoria, y que depende de la composición química y la temperatura. En la literatura existen varios modelos que permiten estimarla en función de estos parámetros.\n",
    "\n",
    "El concepto de capacidad de sulfuro permite comparar bajo el mismo marco de trabajo la capacidad de desulfuración de distintas escorias.\n",
    "\n",
    "\n",
    "La disponibilidad de datos de capacidad de azufre en función de composición y temperatura son limitados, y generalmente no cubren todos los casos que se pueden presentar en la industria. Es por esto que la utilización de modelos que permitan estimar esta propiedad es importante."
   ]
  },
  {
   "cell_type": "markdown",
   "id": "d5462728",
   "metadata": {},
   "source": [
    "## 1.2 Definiciones"
   ]
  },
  {
   "cell_type": "markdown",
   "id": "2e4dedd8",
   "metadata": {},
   "source": [
    "### 1.2.1 Capacidad de sulfuro, Cs"
   ]
  },
  {
   "cell_type": "markdown",
   "id": "fa096fca",
   "metadata": {},
   "source": [
    "**Reacción de interés**"
   ]
  },
  {
   "cell_type": "markdown",
   "id": "a6ad3520",
   "metadata": {},
   "source": [
    "La capacidad de una escoria para disolver azufre, $S^{2-}$, se determina mediante experimentos de equilibrio entre una escoria fundida y una mezcla gaseosa oxígeno-azufre a temperatura constante."
   ]
  },
  {
   "cell_type": "markdown",
   "id": "509fde90",
   "metadata": {},
   "source": [
    "\n",
    "\n",
    "$$ \\frac{1}{2} S_2(g) + \\left(O^{2-}\\right)_{slag} = \\frac{1}{2} O_2(g) + \\left(S^{2-}\\right)_{slag} \\quad\\quad \\mathrm{Reac.\\,1.1}$$\n",
    "\n",
    "$$ K_{1.1} = \\underbrace{\\frac{a_{S^{2-}}}{a_{O^{2-}}}}_{no \\,medible} \\,\\,\\underbrace{\\left(\\frac{p_{O_2}}{p_{S_2}}\\right)^{1/2}}_{medible}$$\n",
    "\n",
    "donde\n",
    "- $a_{S^{2-}}$ y $a_{O^{2-}}$, son las actividades de los iones de azufre y oxígeno en la escoria (no medibles).\n",
    "- $p_{O_2}$ y $p_{S_2}$, son las presiones parciales de oxígeno y azufre en la mezcla gaseosa (medibles)."
   ]
  },
  {
   "cell_type": "markdown",
   "id": "4ab88e8e",
   "metadata": {},
   "source": [
    "**Definición formal**"
   ]
  },
  {
   "cell_type": "markdown",
   "id": "6fac6778",
   "metadata": {},
   "source": [
    "La capacidad de azufre, definida por [Finchan, C. J. & Richardson F. D (1954)](https://doi.org/10.1098/rspa.1954.0099)  , se obtiene al reacomodar los términos en la constante de equilibrio de la Reacción 1.1, de tal forma que los términos medibles queden de un lado de la ecuación."
   ]
  },
  {
   "cell_type": "markdown",
   "id": "43690623",
   "metadata": {},
   "source": [
    "\n",
    "\n",
    "$$ C_S = \\underbrace{K_{1.1} \\frac{a_{O^{2-}}}{f_{S^{2-}}}}_{no \\, medible} = \\underbrace{\\left(\\%S\\right)_{slag} \\left(\\frac{p_{O_2}}{p_{S_2}}\\right)^{1/2}}_{medible} $$\n",
    "\n",
    "La actividad del ión sulfuro está dada por: $a_{S^{2-}} = f_{S^{2-}} \\left(\\%S\\right)_{slag}$."
   ]
  },
  {
   "cell_type": "markdown",
   "id": "cb53f2af",
   "metadata": {},
   "source": [
    "### 1.2.2 Basicidad óptica"
   ]
  },
  {
   "cell_type": "markdown",
   "id": "b23062d0",
   "metadata": {},
   "source": [
    "Es conocimiento general que una escoria mas básica favorece la cinética de desulfurización en los procesos de refinación secundaria del acero. Es por esta razón que muchos modelos empíricos buscan relacionar la basicidad de una escoria con la capacidad de sulfuro de la misma.\n",
    "\n",
    "De forma específica, la mayoría de los modelos presentados aquí trabajan con la basicidad optica ($\\Lambda$), que es una escala numérica que permite evaluar la basicidad de una escoria en función de su composición y las propiedades individuales de basicidad teórica de cada uno de sus constituyentes ($\\Lambda_{th}$). El concepto fue definido originalmente por [Duffy & Ingram (1976)](https://www.sciencedirect.com/science/article/pii/0022309376900272), para aplicación en ciencia de vidrios."
   ]
  },
  {
   "cell_type": "markdown",
   "id": "266b8c05",
   "metadata": {},
   "source": [
    "#### Definición formal"
   ]
  },
  {
   "cell_type": "markdown",
   "id": "47c8a670",
   "metadata": {},
   "source": [
    "La basicidad óptica para una escoria está dada por:\n",
    "\n",
    "$$\\Lambda = \\frac{\\sum X_i n_i \\Lambda_{th,i}}{\\sum{X_i n_i}}$$\n",
    "\n",
    "donde:\n",
    "\n",
    "- $X_i$: fracción molar de cada molécula, e.g., $Al_2O_3$, $SiO_2$, etc.\n",
    "- $n_i$: número de aniones de oxígeno en la molécula, e.g., $3$ para $Al_2O_3$, y $2$ para $SiO_2$.\n",
    "- $\\Lambda_{th,i}$: basicidad óptica teórica para cada molécula."
   ]
  },
  {
   "cell_type": "markdown",
   "id": "0310fd2f",
   "metadata": {},
   "source": [
    "#### Basicidad corregida"
   ]
  },
  {
   "cell_type": "markdown",
   "id": "f4702ed4",
   "metadata": {},
   "source": [
    "La definición de basicidad óptica fue modificada por [Mills (1993)](https://www.jstage.jst.go.jp/article/isijinternational1989/33/1/33_1_148/_article) para tomar en cuenta el caracter anfótero de la alumina. La basicidad óptica se corrige con respecto a los cationes necesarios para balancear la carga de aniones $\\mathrm{AlO_4^{5-}}$ presentes."
   ]
  },
  {
   "cell_type": "markdown",
   "id": "6bca5d49",
   "metadata": {},
   "source": [
    "- Cálculo de fraccion molar requerida para balancear alumina:\n",
    "$$ X_{\\mathrm{nb}} = X_{\\mathrm{CaO}} + X_{\\mathrm{MgO}} + X_{\\mathrm{FeO}} + X_{\\mathrm{MnO}}$$\n",
    "\n",
    "$$f = \\frac{X_{\\mathrm{nb}} - X_{\\mathrm{Al_2O_3}}}{X_{\\mathrm{nb}}}$$\n",
    "\n",
    "- Cálculo de fraccion molar corregida para los compuestos básicos que participan efectivamente en la depolimerización de la red:\n",
    "\n",
    "$$X_{\\mathrm{CaO}} = f X_{\\mathrm{CaO}}$$\n",
    "$$X_{\\mathrm{MgO}} = f X_{\\mathrm{MgO}}$$\n",
    "$$X_{\\mathrm{FeO}} = f X_{\\mathrm{FeO}}$$\n",
    "$$X_{\\mathrm{MnO}} = f X_{\\mathrm{MnO}}$$\n",
    "\n",
    "- Cálculo de la basicidad óptica corregida:\n",
    "\n",
    "$$\\Lambda = \\frac{\\sum X_i n_i \\Lambda_{th,i}}{\\sum{X_i n_i}}$$\n",
    "\n",
    "donde:\n",
    "\n",
    "- $X_i$: fracción molar corregida de cada molécula, e.g., $Al_2O_3$, $SiO_2$, etc.\n",
    "- $n_i$: número de aniones de oxígeno en la molécula, e.g., $3$ para $Al_2O_3$, y $2$ para $SiO_2$.\n",
    "- $\\Lambda_{th,i}$: basicidad óptica teórica para cada molécula."
   ]
  },
  {
   "cell_type": "markdown",
   "id": "1c7db0b6",
   "metadata": {},
   "source": [
    "#### Ejemplos"
   ]
  },
  {
   "cell_type": "code",
   "execution_count": 2,
   "id": "a01883be",
   "metadata": {},
   "outputs": [
    {
     "name": "stdout",
     "output_type": "stream",
     "text": [
      "Basicidad optica (Escoria 1):\n",
      "Comp [wt%]: {'Al2O3': 30, 'CaO': 54, 'MgO': 10, 'SiO2': 5, 'FeO': 0.5, 'MnO': 0.5}\n",
      "T [K]: 1873\n",
      "Λ    : 0.7827\n",
      "Λcorr: 0.7570\n"
     ]
    }
   ],
   "source": [
    "# Composición y temperatura para ejemplos\n",
    "slagComp1 = {'Al2O3':30,'CaO': 54, 'MgO': 10, 'SiO2': 5, 'FeO': 0.5, 'MnO': 0.5} #wt%\n",
    "T = 1873 # [K]\n",
    "\n",
    "l1 = cS.opticalBasicity(slagComp1,T,False)\n",
    "l1c = cS.opticalBasicity(slagComp1,T,True)\n",
    "\n",
    "print(\"Basicidad optica (Escoria 1):\")\n",
    "print(\"Comp [wt%]:\", slagComp1)\n",
    "print(\"T [K]:\", T)\n",
    "print(f\"Λ    : {l1:.4f}\")\n",
    "print(f\"Λcorr: {l1c:.4f}\")"
   ]
  },
  {
   "cell_type": "code",
   "execution_count": 3,
   "id": "69f31277",
   "metadata": {},
   "outputs": [
    {
     "name": "stdout",
     "output_type": "stream",
     "text": [
      "Basicidad optica (Escoria 2):\n",
      "Comp [wt%]: {'Al2O3': 25, 'CaO': 54, 'MgO': 10, 'SiO2': 10, 'FeO': 0.5, 'MnO': 0.5}\n",
      "T [K]: 1873\n",
      "Λ    : 0.7724\n",
      "Λcorr: 0.7505\n"
     ]
    }
   ],
   "source": [
    "# Composición y temperatura para ejemplos\n",
    "slagComp2 = {'Al2O3':25,'CaO': 54, 'MgO': 10, 'SiO2': 10, 'FeO': 0.5, 'MnO': 0.5} #wt%\n",
    "T = 1873 # [K]\n",
    "\n",
    "l2 = cS.opticalBasicity(slagComp2,T,False)\n",
    "l2c = cS.opticalBasicity(slagComp2,T,True)\n",
    "\n",
    "print(\"Basicidad optica (Escoria 2):\")\n",
    "print(\"Comp [wt%]:\", slagComp2)\n",
    "print(\"T [K]:\", T)\n",
    "print(f\"Λ    : {l2:.4f}\")\n",
    "print(f\"Λcorr: {l2c:.4f}\")"
   ]
  },
  {
   "cell_type": "code",
   "execution_count": 4,
   "id": "9a7c35dc",
   "metadata": {},
   "outputs": [
    {
     "name": "stdout",
     "output_type": "stream",
     "text": [
      "Basicidad optica (Escoria 3):\n",
      "Comp [wt%]: {'Al2O3': 8, 'CaO': 54, 'MgO': 10, 'SiO2': 25, 'FeO': 1, 'MnO': 1}\n",
      "T [K]: 1873\n",
      "Λ    : 0.7479\n",
      "Λcorr: 0.7406\n"
     ]
    }
   ],
   "source": [
    "# Composición y temperatura para ejemplos\n",
    "slagComp3 = {'Al2O3':8,'CaO': 54, 'MgO': 10, 'SiO2': 25, 'FeO': 1, 'MnO': 1} #wt%\n",
    "T = 1873 # [K]\n",
    "\n",
    "l3 = cS.opticalBasicity(slagComp3,T,False)\n",
    "l3c = cS.opticalBasicity(slagComp3,T,True)\n",
    "\n",
    "print(\"Basicidad optica (Escoria 3):\")\n",
    "print(\"Comp [wt%]:\", slagComp3)\n",
    "print(\"T [K]:\", T)\n",
    "print(f\"Λ    : {l3:.4f}\")\n",
    "print(f\"Λcorr: {l3c:.4f}\")"
   ]
  },
  {
   "cell_type": "markdown",
   "id": "1c96f45f",
   "metadata": {},
   "source": [
    "## 1.3 Modelos"
   ]
  },
  {
   "cell_type": "markdown",
   "id": "04ee664f",
   "metadata": {},
   "source": [
    "### 1.3.1 Modelos empíricos basados en la composición de la escoria"
   ]
  },
  {
   "cell_type": "markdown",
   "id": "a3ede56c",
   "metadata": {},
   "source": [
    "#### Modelo de Faral y Gaye"
   ]
  },
  {
   "cell_type": "markdown",
   "id": "6008a0c0",
   "metadata": {},
   "source": [
    "$$\\log C_S' = \\frac{B}{A} + 2.82 - \\frac{13300}{T}$$\n",
    "\n",
    "$$B = 5.623(\\mathrm{\\%CaO}) + 4.15(\\mathrm{\\%MgO}) - 1.152(\\mathrm{\\%SiO_2}) + 1.457(\\mathrm{\\%Al_2O_3})$$\n",
    "\n",
    "$$A = (\\mathrm{\\%CaO}) + 1.391(\\mathrm{\\%MgO}) + 1.867(\\mathrm{\\%SiO_2}) + 1.65(\\mathrm{\\%Al_2O_3})$$"
   ]
  },
  {
   "cell_type": "markdown",
   "id": "585f42ea",
   "metadata": {},
   "source": [
    "**Notas:** \n",
    "- Este modelo calcula la capacidad de sulfuro modificada, $C_S'$, pues fue construido en base a datos de equilibrio metal-escoria.\n",
    "- La capacidad de sulfuro, $C_{S}$,  se puede calcular tomando en cuenta la relación termodinámica:\n",
    "\n",
    "$$\\log C_S' = \\log C_S -\\frac{935}{T} + 1.375$$"
   ]
  },
  {
   "cell_type": "code",
   "execution_count": 5,
   "id": "923ab551",
   "metadata": {},
   "outputs": [
    {
     "name": "stdout",
     "output_type": "stream",
     "text": [
      "Modelo de Faral y Gaye (1984):\n",
      "Comp [wt%]: {'Al2O3': 30, 'CaO': 54, 'MgO': 10, 'SiO2': 5, 'FeO': 0.5, 'MnO': 0.5}\n",
      "T [K]: 1873\n",
      "logCs = -2.1327\n"
     ]
    }
   ],
   "source": [
    "print(\"Modelo de Faral y Gaye (1984):\")\n",
    "print(\"Comp [wt%]:\", slagComp1)\n",
    "print(\"T [K]:\", T)\n",
    "print(f\"logCs = {cS.logCs_Gaye(slagComp1, T):.4f}\")"
   ]
  },
  {
   "cell_type": "code",
   "execution_count": 6,
   "id": "782f24a2",
   "metadata": {},
   "outputs": [
    {
     "name": "stdout",
     "output_type": "stream",
     "text": [
      "Modelo de Faral y Gaye (1984):\n",
      "Comp [wt%]: {'Al2O3': 25, 'CaO': 54, 'MgO': 10, 'SiO2': 10, 'FeO': 0.5, 'MnO': 0.5}\n",
      "T [K]: 1873\n",
      "logCs = -2.2590\n"
     ]
    }
   ],
   "source": [
    "print(\"Modelo de Faral y Gaye (1984):\")\n",
    "print(\"Comp [wt%]:\", slagComp2)\n",
    "print(\"T [K]:\", T)\n",
    "print(f\"logCs = {cS.logCs_Gaye(slagComp2, T):.4f}\")"
   ]
  },
  {
   "cell_type": "code",
   "execution_count": 7,
   "id": "818f75a9",
   "metadata": {},
   "outputs": [
    {
     "name": "stdout",
     "output_type": "stream",
     "text": [
      "Modelo de Faral y Gaye (1984):\n",
      "Comp [wt%]: {'Al2O3': 8, 'CaO': 54, 'MgO': 10, 'SiO2': 25, 'FeO': 1, 'MnO': 1}\n",
      "T [K]: 1873\n",
      "logCs = -2.5827\n"
     ]
    }
   ],
   "source": [
    "print(\"Modelo de Faral y Gaye (1984):\")\n",
    "print(\"Comp [wt%]:\", slagComp3)\n",
    "print(\"T [K]:\", T)\n",
    "print(f\"logCs = {cS.logCs_Gaye(slagComp3, T):.4f}\")"
   ]
  },
  {
   "cell_type": "markdown",
   "id": "c2d757bf",
   "metadata": {},
   "source": [
    "### 1.3.2 Modelos empíricos basados en la basicidad óptica"
   ]
  },
  {
   "cell_type": "markdown",
   "id": "953a6e41",
   "metadata": {},
   "source": [
    "#### Modelo de Sosinsky y Sommerville"
   ]
  },
  {
   "cell_type": "markdown",
   "id": "d03d51af",
   "metadata": {},
   "source": [
    "$$\\log Cs = \\left( \\frac{22690 - 54640 \\Lambda}{T}  \\right) + 43.6 \\Lambda - 25.2$$"
   ]
  },
  {
   "cell_type": "markdown",
   "id": "8a554a2a",
   "metadata": {},
   "source": [
    "**Notas:**\n",
    "\n",
    "- Este modelo fue calibrado en base a la basicidad óptica."
   ]
  },
  {
   "cell_type": "code",
   "execution_count": 8,
   "id": "182c9a8a",
   "metadata": {},
   "outputs": [
    {
     "name": "stdout",
     "output_type": "stream",
     "text": [
      "Modelo de Sosinsky y Sommerville (1986):\n",
      "Comp [wt%]: {'Al2O3': 30, 'CaO': 54, 'MgO': 10, 'SiO2': 5, 'FeO': 0.5, 'MnO': 0.5}\n",
      "T [K]: 1873\n",
      "logCs = -1.7935   [Λ=0.7827]\n",
      "logCs = -2.1639   [Λc=0.7570]\n"
     ]
    }
   ],
   "source": [
    "print(\"Modelo de Sosinsky y Sommerville (1986):\")\n",
    "print(\"Comp [wt%]:\", slagComp1)\n",
    "print(\"T [K]:\", T)\n",
    "print(f\"logCs = {cS.logCs_Sommer(slagComp1, T, False):.4f}   [Λ={l1:.4f}]\")\n",
    "print(f\"logCs = {cS.logCs_Sommer(slagComp1, T, True):.4f}   [Λc={l1c:.4f}]\")"
   ]
  },
  {
   "cell_type": "code",
   "execution_count": 9,
   "id": "ffaf384e",
   "metadata": {},
   "outputs": [
    {
     "name": "stdout",
     "output_type": "stream",
     "text": [
      "Modelo de Sosinsky y Sommerville (1986):\n",
      "Comp [wt%]: {'Al2O3': 25, 'CaO': 54, 'MgO': 10, 'SiO2': 10, 'FeO': 0.5, 'MnO': 0.5}\n",
      "T [K]: 1873\n",
      "logCs = -1.9413   [Λ=0.7724]\n",
      "logCs = -2.2574   [Λc=0.7505]\n"
     ]
    }
   ],
   "source": [
    "print(\"Modelo de Sosinsky y Sommerville (1986):\")\n",
    "print(\"Comp [wt%]:\", slagComp2)\n",
    "print(\"T [K]:\", T)\n",
    "print(f\"logCs = {cS.logCs_Sommer(slagComp2, T, False):.4f}   [Λ={l2:.4f}]\")\n",
    "print(f\"logCs = {cS.logCs_Sommer(slagComp2, T, True):.4f}   [Λc={l2c:.4f}]\")"
   ]
  },
  {
   "cell_type": "code",
   "execution_count": 10,
   "id": "e26f6645",
   "metadata": {},
   "outputs": [
    {
     "name": "stdout",
     "output_type": "stream",
     "text": [
      "Modelo de Sosinsky y Sommerville (1986):\n",
      "Comp [wt%]: {'Al2O3': 8, 'CaO': 54, 'MgO': 10, 'SiO2': 25, 'FeO': 1, 'MnO': 1}\n",
      "T [K]: 1873\n",
      "logCs = -2.2952   [Λ=0.7479]\n",
      "logCs = -2.4009   [Λc=0.7406]\n"
     ]
    }
   ],
   "source": [
    "print(\"Modelo de Sosinsky y Sommerville (1986):\")\n",
    "print(\"Comp [wt%]:\", slagComp3)\n",
    "print(\"T [K]:\", T)\n",
    "print(f\"logCs = {cS.logCs_Sommer(slagComp3, T, False):.4f}   [Λ={l3:.4f}]\")\n",
    "print(f\"logCs = {cS.logCs_Sommer(slagComp3, T, True):.4f}   [Λc={l3c:.4f}]\")"
   ]
  },
  {
   "cell_type": "markdown",
   "id": "a97a2cbd",
   "metadata": {},
   "source": [
    "#### Modelo de Zhang, Chou y Pal"
   ]
  },
  {
   "cell_type": "markdown",
   "id": "9a29ce05",
   "metadata": {},
   "source": [
    "$$\\log C_S = -6.08 + \\frac{4.49}{\\Lambda} + \\frac{\\left(15893 - \\frac{15864}{\\Lambda} \\right)}{T}$$"
   ]
  },
  {
   "cell_type": "markdown",
   "id": "990a5357",
   "metadata": {},
   "source": [
    "**Notas:**\n",
    "\n",
    "- Este modelo fue calibrado en base a la basicidad óptica corregida."
   ]
  },
  {
   "cell_type": "code",
   "execution_count": 11,
   "id": "08699a1d",
   "metadata": {},
   "outputs": [
    {
     "name": "stdout",
     "output_type": "stream",
     "text": [
      "Modelo de Zhang, Chou y Pal (2013):\n",
      "Comp [wt%]: {'Al2O3': 30, 'CaO': 54, 'MgO': 10, 'SiO2': 5, 'FeO': 0.5, 'MnO': 0.5}\n",
      "T [K]: 1873\n",
      "logCs = -2.6412   [Λ=0.7827]\n",
      "logCs = -2.8088   [Λc=0.7570]\n"
     ]
    }
   ],
   "source": [
    "print(\"Modelo de Zhang, Chou y Pal (2013):\")\n",
    "print(\"Comp [wt%]:\", slagComp1)\n",
    "print(\"T [K]:\", T)\n",
    "print(f\"logCs = {cS.logCs_Zhang(slagComp1, T, False):.4f}   [Λ={l1:.4f}]\")\n",
    "print(f\"logCs = {cS.logCs_Zhang(slagComp1, T, True):.4f}   [Λc={l1c:.4f}]\")"
   ]
  },
  {
   "cell_type": "code",
   "execution_count": 12,
   "id": "edf6b3b4",
   "metadata": {},
   "outputs": [
    {
     "name": "stdout",
     "output_type": "stream",
     "text": [
      "Modelo de Zhang, Chou y Pal (2013):\n",
      "Comp [wt%]: {'Al2O3': 25, 'CaO': 54, 'MgO': 10, 'SiO2': 10, 'FeO': 0.5, 'MnO': 0.5}\n",
      "T [K]: 1873\n",
      "logCs = -2.7121   [Λ=0.7724]\n",
      "logCs = -2.8593   [Λc=0.7505]\n"
     ]
    }
   ],
   "source": [
    "print(\"Modelo de Zhang, Chou y Pal (2013):\")\n",
    "print(\"Comp [wt%]:\", slagComp2)\n",
    "print(\"T [K]:\", T)\n",
    "print(f\"logCs = {cS.logCs_Zhang(slagComp2, T, False):.4f}   [Λ={l2:.4f}]\")\n",
    "print(f\"logCs = {cS.logCs_Zhang(slagComp2, T, True):.4f}   [Λc={l2c:.4f}]\")"
   ]
  },
  {
   "cell_type": "code",
   "execution_count": 13,
   "id": "a68d345d",
   "metadata": {},
   "outputs": [
    {
     "name": "stdout",
     "output_type": "stream",
     "text": [
      "Modelo de Zhang, Chou y Pal (2013):\n",
      "Comp [wt%]: {'Al2O3': 8, 'CaO': 54, 'MgO': 10, 'SiO2': 25, 'FeO': 1, 'MnO': 1}\n",
      "T [K]: 1873\n",
      "logCs = -2.8799   [Λ=0.7479]\n",
      "logCs = -2.9325   [Λc=0.7406]\n"
     ]
    }
   ],
   "source": [
    "print(\"Modelo de Zhang, Chou y Pal (2013):\")\n",
    "print(\"Comp [wt%]:\", slagComp3)\n",
    "print(\"T [K]:\", T)\n",
    "print(f\"logCs = {cS.logCs_Zhang(slagComp3, T, False):.4f}   [Λ={l3:.4f}]\")\n",
    "print(f\"logCs = {cS.logCs_Zhang(slagComp3, T, True):.4f}   [Λc={l3c:.4f}]\")"
   ]
  },
  {
   "cell_type": "markdown",
   "id": "cf7af269",
   "metadata": {},
   "source": [
    "#### Modelo de Hao y Wang"
   ]
  },
  {
   "cell_type": "markdown",
   "id": "21e7bd9f",
   "metadata": {},
   "source": [
    "$$\\log C_S = \\frac{\\frac{12410}{\\Lambda} - 27109}{T} + 19.45 - \\frac{11.85}{\\Lambda}$$"
   ]
  },
  {
   "cell_type": "markdown",
   "id": "1191f71e",
   "metadata": {},
   "source": [
    "**Notas:**\n",
    "\n",
    "- Este modelo fue calibrado en base a la basicidad óptica corregida."
   ]
  },
  {
   "cell_type": "code",
   "execution_count": 14,
   "id": "bdff68f6",
   "metadata": {},
   "outputs": [
    {
     "name": "stdout",
     "output_type": "stream",
     "text": [
      "Modelo de Hao y Wang (2016):\n",
      "Comp [wt%]: {'Al2O3': 30, 'CaO': 54, 'MgO': 10, 'SiO2': 5, 'FeO': 0.5, 'MnO': 0.5}\n",
      "T [K]: 1873\n",
      "logCs = -1.6984   [Λ=0.7827]\n",
      "logCs = -1.9247   [Λc=0.7570]\n"
     ]
    }
   ],
   "source": [
    "print(\"Modelo de Hao y Wang (2016):\")\n",
    "print(\"Comp [wt%]:\", slagComp1)\n",
    "print(\"T [K]:\", T)\n",
    "print(f\"logCs = {cS.logCs_Hao(slagComp1, T, False):.4f}   [Λ={l1:.4f}]\")\n",
    "print(f\"logCs = {cS.logCs_Hao(slagComp1, T, True):.4f}   [Λc={l1c:.4f}]\")"
   ]
  },
  {
   "cell_type": "code",
   "execution_count": 15,
   "id": "5a180f47",
   "metadata": {},
   "outputs": [
    {
     "name": "stdout",
     "output_type": "stream",
     "text": [
      "Modelo de Hao y Wang (2016):\n",
      "Comp [wt%]: {'Al2O3': 25, 'CaO': 54, 'MgO': 10, 'SiO2': 10, 'FeO': 0.5, 'MnO': 0.5}\n",
      "T [K]: 1873\n",
      "logCs = -1.7869   [Λ=0.7724]\n",
      "logCs = -1.9843   [Λc=0.7505]\n"
     ]
    }
   ],
   "source": [
    "print(\"Modelo de Hao y Wang (2016):\")\n",
    "print(\"Comp [wt%]:\", slagComp2)\n",
    "print(\"T [K]:\", T)\n",
    "print(f\"logCs = {cS.logCs_Hao(slagComp2, T, False):.4f}   [Λ={l2:.4f}]\")\n",
    "print(f\"logCs = {cS.logCs_Hao(slagComp2, T, True):.4f}   [Λc={l2c:.4f}]\")"
   ]
  },
  {
   "cell_type": "code",
   "execution_count": 16,
   "id": "61c00f23",
   "metadata": {},
   "outputs": [
    {
     "name": "stdout",
     "output_type": "stream",
     "text": [
      "Modelo de Hao y Wang (2016):\n",
      "Comp [wt%]: {'Al2O3': 8, 'CaO': 54, 'MgO': 10, 'SiO2': 25, 'FeO': 1, 'MnO': 1}\n",
      "T [K]: 1873\n",
      "logCs = -2.0087   [Λ=0.7479]\n",
      "logCs = -2.0778   [Λc=0.7406]\n"
     ]
    }
   ],
   "source": [
    "print(\"Modelo de Hao y Wang (2016):\")\n",
    "print(\"Comp [wt%]:\", slagComp3)\n",
    "print(\"T [K]:\", T)\n",
    "print(f\"logCs = {cS.logCs_Hao(slagComp3, T, False):.4f}   [Λ={l3:.4f}]\")\n",
    "print(f\"logCs = {cS.logCs_Hao(slagComp3, T, True):.4f}   [Λc={l3c:.4f}]\")"
   ]
  },
  {
   "cell_type": "markdown",
   "id": "dd5ae03e",
   "metadata": {},
   "source": [
    "### 1.3.3 Modelos empíricos basados en basicidad óptica que incluyen términos adicionales"
   ]
  },
  {
   "cell_type": "markdown",
   "id": "da3d9e0a",
   "metadata": {},
   "source": [
    "#### Modelo de Young"
   ]
  },
  {
   "cell_type": "markdown",
   "id": "90c996c5",
   "metadata": {},
   "source": [
    "$$\\log C_S = -13.913 + 42.84 \\Lambda - 23.82 \\Lambda^2 - \\frac{11710}{T} - 0.02223(\\mathrm{\\%SiO_2}) - 0.02275(\\mathrm{\\%Al_2O_3}) \\quad \\forall \\quad \\Lambda < 0.8$$\n",
    "\n",
    "$$\\log C_S = -0.6261 + 0.4808 \\Lambda - 0.7917 \\Lambda^2 - \\frac{1697}{T} - \\frac{2587 \\Lambda}{T} + 5.144 \\times 10^{-4}(\\mathrm{\\%FeO}) \\quad \\forall \\quad \\Lambda \\geq 0.8$$"
   ]
  },
  {
   "cell_type": "markdown",
   "id": "71b91c5c",
   "metadata": {},
   "source": [
    "**Notas:**\n",
    "\n",
    "- Este modelo fue calibrado en base a la basicidad óptica."
   ]
  },
  {
   "cell_type": "code",
   "execution_count": 17,
   "id": "201df41c",
   "metadata": {},
   "outputs": [
    {
     "name": "stdout",
     "output_type": "stream",
     "text": [
      "Modelo de Young (1991):\n",
      "Comp [wt%]: {'Al2O3': 30, 'CaO': 54, 'MgO': 10, 'SiO2': 5, 'FeO': 0.5, 'MnO': 0.5}\n",
      "T [K]: 1873\n",
      "logCs = -2.0204   [Λ=0.7827]\n",
      "logCs = -2.1787   [Λc=0.7570]\n"
     ]
    }
   ],
   "source": [
    "print(\"Modelo de Young (1991):\")\n",
    "print(\"Comp [wt%]:\", slagComp1)\n",
    "print(\"T [K]:\", T)\n",
    "print(f\"logCs = {cS.logCs_Young(slagComp1, T, False):.4f}   [Λ={l1:.4f}]\")\n",
    "print(f\"logCs = {cS.logCs_Young(slagComp1, T, True):.4f}   [Λc={l1c:.4f}]\")"
   ]
  },
  {
   "cell_type": "code",
   "execution_count": 18,
   "id": "21bfff3e",
   "metadata": {},
   "outputs": [
    {
     "name": "stdout",
     "output_type": "stream",
     "text": [
      "Modelo de Young (1991):\n",
      "Comp [wt%]: {'Al2O3': 25, 'CaO': 54, 'MgO': 10, 'SiO2': 10, 'FeO': 0.5, 'MnO': 0.5}\n",
      "T [K]: 1873\n",
      "logCs = -2.0772   [Λ=0.7724]\n",
      "logCs = -2.2210   [Λc=0.7505]\n"
     ]
    }
   ],
   "source": [
    "print(\"Modelo de Young (1991):\")\n",
    "print(\"Comp [wt%]:\", slagComp2)\n",
    "print(\"T [K]:\", T)\n",
    "print(f\"logCs = {cS.logCs_Young(slagComp2, T, False):.4f}   [Λ={l2:.4f}]\")\n",
    "print(f\"logCs = {cS.logCs_Young(slagComp2, T, True):.4f}   [Λc={l2c:.4f}]\")"
   ]
  },
  {
   "cell_type": "code",
   "execution_count": 19,
   "id": "2d37ce66",
   "metadata": {},
   "outputs": [
    {
     "name": "stdout",
     "output_type": "stream",
     "text": [
      "Modelo de Young (1991):\n",
      "Comp [wt%]: {'Al2O3': 8, 'CaO': 54, 'MgO': 10, 'SiO2': 25, 'FeO': 1, 'MnO': 1}\n",
      "T [K]: 1873\n",
      "logCs = -2.1864   [Λ=0.7479]\n",
      "logCs = -2.2405   [Λc=0.7406]\n"
     ]
    }
   ],
   "source": [
    "print(\"Modelo de Young (1991):\")\n",
    "print(\"Comp [wt%]:\", slagComp3)\n",
    "print(\"T [K]:\", T)\n",
    "print(f\"logCs = {cS.logCs_Young(slagComp3, T, False):.4f}   [Λ={l3:.4f}]\")\n",
    "print(f\"logCs = {cS.logCs_Young(slagComp3, T, True):.4f}   [Λc={l3c:.4f}]\")"
   ]
  },
  {
   "cell_type": "markdown",
   "id": "66e19c7d",
   "metadata": {},
   "source": [
    "#### Modelo de Taniguchi, Sano y Seetharaman"
   ]
  },
  {
   "cell_type": "markdown",
   "id": "cb77c846",
   "metadata": {},
   "source": [
    "$$\\log C_S = 7.350 + 94.89 \\log \\Lambda - \\frac{10051+\\Lambda(-338(\\mathrm{\\%MgO})+287(\\mathrm{\\%MnO})}{T} + 0.2284(\\mathrm{\\%SiO_2}) + 0.1379(\\mathrm{\\%Al_2O_3}) - 0.0587(\\mathrm{\\%MgO}) + 0.0841(\\mathrm{\\%MnO})$$"
   ]
  },
  {
   "cell_type": "markdown",
   "id": "928c7771",
   "metadata": {},
   "source": [
    "**Notas:**\n",
    "\n",
    "- Este modelo fue calibrado en base a la basicidad óptica."
   ]
  },
  {
   "cell_type": "code",
   "execution_count": 20,
   "id": "5b0dac60",
   "metadata": {},
   "outputs": [
    {
     "name": "stdout",
     "output_type": "stream",
     "text": [
      "Modelo de Taniguchi, Sano y Seetharaman (2009):\n",
      "Comp [wt%]: {'Al2O3': 30, 'CaO': 54, 'MgO': 10, 'SiO2': 5, 'FeO': 0.5, 'MnO': 0.5}\n",
      "T [K]: 1873\n",
      "logCs = -2.5178   [Λ=0.7827]\n",
      "logCs = -2.1328   [Λc=0.7570]\n"
     ]
    }
   ],
   "source": [
    "print(\"Modelo de Taniguchi, Sano y Seetharaman (2009):\")\n",
    "print(\"Comp [wt%]:\", slagComp1)\n",
    "print(\"T [K]:\", T)\n",
    "print(f\"logCs = {cS.logCs_KTH(slagComp1, T, False):.4f}   [Λ={l1:.4f}]\")\n",
    "print(f\"logCs = {cS.logCs_KTH(slagComp1, T, True):.4f}   [Λc={l1c:.4f}]\")"
   ]
  },
  {
   "cell_type": "code",
   "execution_count": 21,
   "id": "e05ade72",
   "metadata": {},
   "outputs": [
    {
     "name": "stdout",
     "output_type": "stream",
     "text": [
      "Modelo de Taniguchi, Sano y Seetharaman (2009):\n",
      "Comp [wt%]: {'Al2O3': 25, 'CaO': 54, 'MgO': 10, 'SiO2': 10, 'FeO': 0.5, 'MnO': 0.5}\n",
      "T [K]: 1873\n",
      "logCs = -2.6142   [Λ=0.7724]\n",
      "logCs = -2.2095   [Λc=0.7505]\n"
     ]
    }
   ],
   "source": [
    "print(\"Modelo de Taniguchi, Sano y Seetharaman (2009):\")\n",
    "print(\"Comp [wt%]:\", slagComp2)\n",
    "print(\"T [K]:\", T)\n",
    "print(f\"logCs = {cS.logCs_KTH(slagComp2, T, False):.4f}   [Λ={l2:.4f}]\")\n",
    "print(f\"logCs = {cS.logCs_KTH(slagComp2, T, True):.4f}   [Λc={l2c:.4f}]\")"
   ]
  },
  {
   "cell_type": "code",
   "execution_count": 22,
   "id": "ad2df06c",
   "metadata": {},
   "outputs": [
    {
     "name": "stdout",
     "output_type": "stream",
     "text": [
      "Modelo de Taniguchi, Sano y Seetharaman (2009):\n",
      "Comp [wt%]: {'Al2O3': 8, 'CaO': 54, 'MgO': 10, 'SiO2': 25, 'FeO': 1, 'MnO': 1}\n",
      "T [K]: 1873\n",
      "logCs = -2.7619   [Λ=0.7479]\n",
      "logCs = -2.5203   [Λc=0.7406]\n"
     ]
    }
   ],
   "source": [
    "print(\"Modelo de Taniguchi, Sano y Seetharaman (2009):\")\n",
    "print(\"Comp [wt%]:\", slagComp3)\n",
    "print(\"T [K]:\", T)\n",
    "print(f\"logCs = {cS.logCs_KTH(slagComp3, T, False):.4f}   [Λ={l3:.4f}]\")\n",
    "print(f\"logCs = {cS.logCs_KTH(slagComp3, T, True):.4f}   [Λc={l3c:.4f}]\")"
   ]
  },
  {
   "cell_type": "markdown",
   "id": "9a4ca970",
   "metadata": {},
   "source": [
    "### 1.3.4 Modelos semi-empíricos basados en ordenamiento atómico"
   ]
  },
  {
   "cell_type": "markdown",
   "id": "bcf00d0d",
   "metadata": {},
   "source": [
    "#### Modelo KTH (Nzotta, Sichen y Seetharaman)"
   ]
  },
  {
   "cell_type": "markdown",
   "id": "f940380c",
   "metadata": {},
   "source": [
    "$$ C_S = \\underbrace{K_1 \\frac{a_{O^{2-}}}{f_{S^{2-}}}}_{no \\, medible} = \\exp \\left(- \\frac{\\Delta G^{\\circ}}{RT} \\right) \\frac{a_{O^{2-}}}{f_{S^{2-}}}$$\n",
    "\n",
    "$$ C_S = \\exp \\left(- \\frac{\\Delta G^{\\circ}}{RT} \\right) \\exp \\left( - \\frac{\\xi}{RT} \\right)$$\n",
    "\n",
    "$$\\Delta G^{\\circ} = 118535 - 58.8157\\,T \\quad [J/mol]$$\n",
    "\n",
    "$$\\xi = \\sum X_i \\xi_i + \\xi_{mix}$$\n",
    "\n",
    "$$\\xi_{mix} = \\sum_{i=1}^{m-1} \\sum_{j=2}^{m} y_{i} y_{j} \\Omega_{ij} + \\sum_{i=1}^{m-2} \\sum_{j=2}^{m-1} \\sum_{k=3}^{m} y_{i} y_{j} y_{k} \\Omega_{ijk}$$\n",
    "\n",
    "$$y_i = \\frac{c_i X_i}{\\sum c_i X_i}$$\n",
    "\n",
    "$$\\Omega = \\Omega \\left(T, y\\right)$$\n",
    "\n",
    "**Notas:** \n",
    "- $y_i$ es la fracción catiónica de $\\mathrm{Al^{+3}}$, $\\mathrm{Ca^{+2}}$, $\\mathrm{Fe^{+2}}$, $\\mathrm{Mg^{+2}}$, $\\mathrm{Mn^{+2}}$, $\\mathrm{Si^{+4}}$, respectivamente.\n",
    "- $c_i$ es el número de cationes en cada molecula de $\\mathrm{Al_2O_3}$, $\\mathrm{CaO}$, $\\mathrm{FeO}$, $\\mathrm{MgO}$, $\\mathrm{MnO}$, $\\mathrm{SiO_2}$, respectivamente."
   ]
  },
  {
   "cell_type": "code",
   "execution_count": 23,
   "id": "7ba3ce40",
   "metadata": {},
   "outputs": [
    {
     "name": "stdout",
     "output_type": "stream",
     "text": [
      "Modelo KTH:\n",
      "Comp [wt%]: {'Al2O3': 30, 'CaO': 54, 'MgO': 10, 'SiO2': 5, 'FeO': 0.5, 'MnO': 0.5}\n",
      "T [K]: 1873\n",
      "logCs = -2.5178   [1999]\n",
      "logCs = -2.1328   [2018]\n"
     ]
    }
   ],
   "source": [
    "print(\"Modelo KTH:\")\n",
    "print(\"Comp [wt%]:\", slagComp1)\n",
    "print(\"T [K]:\", T)\n",
    "print(f\"logCs = {cS.logCs_KTH(slagComp1, T, False):.4f}   [1999]\")\n",
    "print(f\"logCs = {cS.logCs_KTH(slagComp1, T, True):.4f}   [2018]\")"
   ]
  },
  {
   "cell_type": "code",
   "execution_count": 24,
   "id": "6937b073",
   "metadata": {},
   "outputs": [
    {
     "name": "stdout",
     "output_type": "stream",
     "text": [
      "Modelo KTH:\n",
      "Comp [wt%]: {'Al2O3': 25, 'CaO': 54, 'MgO': 10, 'SiO2': 10, 'FeO': 0.5, 'MnO': 0.5}\n",
      "T [K]: 1873\n",
      "logCs = -2.6142   [1999]\n",
      "logCs = -2.2095   [2018]\n"
     ]
    }
   ],
   "source": [
    "print(\"Modelo KTH:\")\n",
    "print(\"Comp [wt%]:\", slagComp2)\n",
    "print(\"T [K]:\", T)\n",
    "print(f\"logCs = {cS.logCs_KTH(slagComp2, T, False):.4f}   [1999]\")\n",
    "print(f\"logCs = {cS.logCs_KTH(slagComp2, T, True):.4f}   [2018]\")"
   ]
  },
  {
   "cell_type": "code",
   "execution_count": 25,
   "id": "349917d2",
   "metadata": {},
   "outputs": [
    {
     "name": "stdout",
     "output_type": "stream",
     "text": [
      "Modelo KTH:\n",
      "Comp [wt%]: {'Al2O3': 8, 'CaO': 54, 'MgO': 10, 'SiO2': 25, 'FeO': 1, 'MnO': 1}\n",
      "T [K]: 1873\n",
      "logCs = -2.7619   [1999]\n",
      "logCs = -2.5203   [2018]\n"
     ]
    }
   ],
   "source": [
    "print(\"Modelo KTH:\")\n",
    "print(\"Comp [wt%]:\", slagComp3)\n",
    "print(\"T [K]:\", T)\n",
    "print(f\"logCs = {cS.logCs_KTH(slagComp3, T, False):.4f}   [1999]\")\n",
    "print(f\"logCs = {cS.logCs_KTH(slagComp3, T, True):.4f}   [2018]\")"
   ]
  },
  {
   "cell_type": "markdown",
   "id": "e2962239",
   "metadata": {},
   "source": [
    "# 1.4 Comparación de modelos"
   ]
  },
  {
   "cell_type": "code",
   "execution_count": 26,
   "id": "e36b0cf3",
   "metadata": {},
   "outputs": [
    {
     "data": {
      "image/png": "[encoded data removed]",
      "text/plain": [
       "<Figure size 600x600 with 3 Axes>"
      ]
     },
     "metadata": {},
     "output_type": "display_data"
    }
   ],
   "source": [
    "TK = [1823, 1873, 1923] # [K]\n",
    "slagComps = [slagComp1, slagComp2, slagComp3]\n",
    "\n",
    "fig, axes = plt.subplots(nrows=3, figsize=(6, 6))\n",
    "for ii, slagComp in enumerate(slagComps):\n",
    "    Gay, Som, You, Kt1, Tan, Zha, Hao, Kt2 = [], [], [], [], [], [], [], []\n",
    "    for Tk in TK:\n",
    "        Gay.append(cS.logCs_Gaye(slagComp, Tk))       # 1984\n",
    "        Som.append(cS.logCs_Sommer(slagComp, Tk))     # 1986\n",
    "        You.append(cS.logCs_Young(slagComp, Tk))      # 1991\n",
    "        Kt1.append(cS.logCs_KTH(slagComp, Tk, False)) # 1999\n",
    "        Tan.append(cS.logCs_Tani(slagComp, Tk))       # 2009\n",
    "        Zha.append(cS.logCs_Zhang(slagComp, Tk))      # 2013\n",
    "        Hao.append(cS.logCs_Hao(slagComp, Tk))        # 2016\n",
    "        Kt2.append(cS.logCs_KTH(slagComp, Tk, True))  # 2018\n",
    "  \n",
    "    models = [Gay, Som, You, Kt1, Tan, Zha, Hao, Kt2]\n",
    "    #graph data\n",
    "    for jj, logCs in enumerate(models):\n",
    "        axes[ii].errorbar(\n",
    "            y=jj, \n",
    "            x=logCs[1], \n",
    "            xerr=([abs(logCs[1]-max(logCs))], [abs(logCs[1]-min(logCs))]),  \n",
    "            fmt='o'\n",
    "        )\n",
    "    #format\n",
    "    axes[ii].set_yticks([0, 1, 2, 3, 4, 5, 6, 7])\n",
    "    axes[ii].set_yticklabels(\n",
    "        [\"Gaye(1984)\", \"Sommerfield (1986)\", \"Young (1991)\", \"KTH (1999)\", \"Taniguchi (2009)\", \"Zhang (2013)\", \"Hao (2016)\", \"KTH (2018)\"],\n",
    "        fontsize=8\n",
    "    )\n",
    "    axes[ii].set_xlabel('log Cs')\n",
    "    axes[ii].set_xlim(-4, -1)\n",
    "    axes[ii].grid(ls='--')\n",
    "    axes[ii].set_title(slagComp, fontsize=8, fontweight='bold')\n",
    "\n",
    "fig.suptitle(f\"Comparison of sulfide capacity models\\nRange: {TK} [K]\")\n",
    "fig.tight_layout()\n",
    "plt.show()"
   ]
  },
  {
   "cell_type": "markdown",
   "id": "2413c386",
   "metadata": {},
   "source": [
    "# Referencias"
   ]
  },
  {
   "cell_type": "markdown",
   "id": "471ea4ad",
   "metadata": {},
   "source": [
    "[Duffy & Ingram (1976)](https://www.sciencedirect.com/science/article/pii/0022309376900272)  \n",
    "\n",
    "    Duffy J A, Ingram M D  (1976)\n",
    "    An Interpretation of Glass Chemistry in Terms of the Optical Basicity Concept  \n",
    "    Journal of Non-crystalline Solids 21, pp. 373-410 (1976)\n",
    "\n",
    "\n",
    "[Faral & Gaye (1984)]()  \n",
    "\n",
    "    Faral M & Gaye H  (1984)\n",
    "    Metal slag equilibria.   \n",
    "    In: Proc Second Intern Symposium Metall Slags and Fluxes, TMS-AIME. 1984. pp. 159–179\n",
    "    \n",
    "    \n",
    "[Sosinsky & Sommerville (1986)](https://link.springer.com/article/10.1007/BF02655080)  \n",
    "\n",
    "    Sosinsky N J & Sommerville I D (1986)\n",
    "    The composition and temperature dependence of the sulfide capacity of metallurgical slags.  \n",
    "    Metall Trans B 17, pp. 331–337 \n",
    "    \n",
    "[Young (1991)](https://cordis.europa.eu/project/id/7210-CF-802/results)\n",
    "\n",
    "    Young R W (1991)\n",
    "    Use of the optical basicity concept for determining phosphorus and sulphur slag/metal partitions.\n",
    "    European Report EUR 13176 EN.\n",
    "    \n",
    "[Mills (1993)](https://www.jstage.jst.go.jp/article/isijinternational1989/33/1/33_1_148/_article)\n",
    "\n",
    "    Mills K C (1993)\n",
    "    The Influence of Structure on the Physico-chemical Properties of Slags\n",
    "    ISIJ International 33, pp. 148-155\n",
    "\n",
    "\n",
    "[Taniguchi et al (2009)](https://www.jstage.jst.go.jp/article/isijinternational/49/2/49_2_156/_article)\n",
    "\n",
    "    Taniguchi Y, Sano N & Seetharaman S (2009)\n",
    "    Sulphide Capacities of CaO–Al2O3–SiO2–MgO–MnO Slags in the Temperature Range 1673–1773K\n",
    "    ISIJ International 49, pp. 156-163\n",
    "    \n",
    "[Zhang et al. (2013)](https://www.jstage.jst.go.jp/article/isijinternational/53/5/53_761/_article/-char/en)\n",
    "\n",
    "    Zhang G H, Chou K C & Pal U (2013)\n",
    "    Estimation of Sulfide Capacities of Multicomponent Slags using Optical Basicity\n",
    "    ISIJ International 53, pp. 761-767\n",
    "    \n",
    "[Nzotta et al. (1998)](https://link.springer.com/article/10.1007/s11663-999-0096-4)\n",
    "\n",
    "        Nzotta M M, Sichen D & Seetharaman S (1998)\n",
    "        Sulphide capacities in some multi component slag systems. \n",
    "        ISIJ international 38, pp. 1170-1179\n",
    "\n",
    "[Nzotta et al. (1999)](https://link.springer.com/article/10.1007/s11663-999-0096-4)\n",
    "\n",
    "        Nzotta M M, Sichen D & Seethraman S (1999)\n",
    "        A study of the sulfide capacities of iron-oxide containing slags.\n",
    "        Metallurgical and Materials Transactions B 30, pp. 909-920\n",
    "        \n",
    "[Hao & Wang (2016)](https://onlinelibrary.wiley.com/doi/full/10.1002/srin.201500065)\n",
    "\n",
    "    Hao X & Wang X\n",
    "    A New Sulfide Capacity Model for CaO-Al2O3-SiO2-MgO Slags Based on Corrected Optical Basicity\n",
    "    Steel Research International 87, 359 - 363 (2016)"
   ]
  },
  {
   "cell_type": "markdown",
   "id": "249a2c7a",
   "metadata": {},
   "source": []
  }
 ],
 "metadata": {
  "kernelspec": {
   "display_name": ".venv",
   "language": "python",
   "name": "python3"
  },
  "language_info": {
   "codemirror_mode": {
    "name": "ipython",
    "version": 3
   },
   "file_extension": ".py",
   "mimetype": "text/x-python",
   "name": "python",
   "nbconvert_exporter": "python",
   "pygments_lexer": "ipython3",
   "version": "3.10.12"
  }
 },
 "nbformat": 4,
 "nbformat_minor": 5
}
