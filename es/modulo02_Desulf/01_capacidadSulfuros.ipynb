{
 "cells": [
  {
   "cell_type": "markdown",
   "metadata": {},
   "source": [
    "# Iniciación en Python con Aplicaciones en Aceración (module 02)\n",
    "\n",
    "**Dr. Edgar Ivan Castro Cedeño**\n",
    "\n",
    "[edgar.castro@cinvestav.mx](mailto:edgar.castro@cinvestav.mx)"
   ]
  },
  {
   "cell_type": "code",
   "execution_count": 1,
   "metadata": {},
   "outputs": [],
   "source": [
    "import numpy as np\n",
    "import matplotlib.pyplot as plt\n",
    "import desulf # funciones propias"
   ]
  },
  {
   "cell_type": "markdown",
   "metadata": {},
   "source": [
    "# 1. Capacidad de sulfuro"
   ]
  },
  {
   "cell_type": "markdown",
   "metadata": {},
   "source": [
    "## 1.1 Concepto general"
   ]
  },
  {
   "cell_type": "markdown",
   "metadata": {},
   "source": [
    "La capacidad de sulfuro es un concepto utilizado ampliamente en pirometalurgia, y que define la capacidad de una escoria fundida homogenea para remover el azufre durante una operación de refinación.\n",
    "\n",
    "Se considera que la capacidad de sulfuro es una propiedad única de cada escoria, y que depende de la composición química y la temperatura. En la literatura existen varios modelos que permiten estimarla en función de estos parámetros.\n",
    "\n",
    "El concepto de capacidad de sulfuro permite comparar bajo el mismo marco de trabajo la capacidad de desulfuración de distintas escorias."
   ]
  },
  {
   "cell_type": "markdown",
   "metadata": {
    "vscode": {
     "languageId": "plaintext"
    }
   },
   "source": [
    "## 1.2 Definiciones de capacidad de sulfuro"
   ]
  },
  {
   "cell_type": "markdown",
   "metadata": {},
   "source": [
    "### 1.2.1 Capacidad de sulfuro, Cs"
   ]
  },
  {
   "cell_type": "markdown",
   "metadata": {},
   "source": [
    "**Reacción de interés**"
   ]
  },
  {
   "cell_type": "markdown",
   "metadata": {},
   "source": [
    "La capacidad de una escoria para disolver azufre, $S^{2-}$, se determina mediante experimentos de equilibrio entre una escoria fundida y una mezcla gaseosa oxígeno-azufre a temperatura constante."
   ]
  },
  {
   "cell_type": "markdown",
   "metadata": {},
   "source": [
    "\n",
    "\n",
    "$$ \\frac{1}{2} S_2(g) + \\left(O^{2-}\\right)_{slag} = \\frac{1}{2} O_2(g) + \\left(S^{2-}\\right)_{slag} \\quad\\quad \\mathrm{Reac.\\,1.1}$$\n",
    "\n",
    "$$ K_{1.1} = \\underbrace{\\frac{a_{S^{2-}}}{a_{O^{2-}}}}_{no \\,medible} \\,\\,\\underbrace{\\left(\\frac{p_{O_2}}{p_{S_2}}\\right)^{1/2}}_{medible}$$\n",
    "\n",
    "donde\n",
    "- $a_{S^{2-}}$ y $a_{O^{2-}}$, son las actividades de los iones de azufre y oxígeno en la escoria (no medibles).\n",
    "- $p_{O_2}$ y $p_{S_2}$, son las presiones parciales de oxígeno y azufre en la mezcla gaseosa (medibles)."
   ]
  },
  {
   "cell_type": "markdown",
   "metadata": {},
   "source": [
    "**Definición formal**"
   ]
  },
  {
   "cell_type": "markdown",
   "metadata": {},
   "source": [
    "La capacidad de azufre, definida por [Finchan & Richardson](https://royalsocietypublishing.org/doi/10.1098/rspa.1954.0099), se obtiene al reacomodar los términos en la constante de equilibrio de la Reacción 1.1, de tal forma que los términos medibles queden de un lado de la ecuación."
   ]
  },
  {
   "cell_type": "markdown",
   "metadata": {},
   "source": [
    "\n",
    "\n",
    "$$ C_S = \\underbrace{K_{1.1} \\frac{a_{O^{2-}}}{f_{S^{2-}}}}_{no \\, medible} = \\underbrace{\\left(\\%S\\right)_{slag} \\left(\\frac{p_{O_2}}{p_{S_2}}\\right)^{1/2}}_{medible} $$\n",
    "\n",
    "La actividad del ión sulfuro está dada por: $a_{S^{2-}} = f_{S^{2-}} \\left(\\%S\\right)_{slag}$."
   ]
  },
  {
   "cell_type": "markdown",
   "metadata": {},
   "source": [
    "### 1.2.2 Capacidad de sulfuro modificada, Cs'"
   ]
  },
  {
   "cell_type": "markdown",
   "metadata": {},
   "source": [
    "**Reacción de interés**"
   ]
  },
  {
   "cell_type": "markdown",
   "metadata": {},
   "source": [
    "En el caso de refinación de metales y aleaciones fundidadas, se considera el intercambio iónico de azufre entre metal y escoria:"
   ]
  },
  {
   "cell_type": "markdown",
   "metadata": {},
   "source": [
    "$$ \\left[ S \\right] + \\left( O^{2-} \\right) = \\left( S^{2-} \\right) + \\left[ O \\right] \\quad\\quad \\mathrm{Reac.\\,1.2}$$\n",
    "\n",
    "$$ K_{1.2} = \\underbrace{\\frac{ \\left( a_{S^{2-}}\\right) }{ \\left( a_{O^{2-}}\\right)  }}_{no \\, medible} \\,\\, \\underbrace{\\frac{\\left[h_O\\right] }{\\left[h_S\\right]}}_{medible}$$\n",
    "\n",
    "donde\n",
    "- $a_{S^{2-}}$ y $a_{O^{2-}}$, son las actividades de los iones de azufre y oxígeno en la escoria (no medibles).\n",
    "- $h_{O}$ y $h_{S}$, son las actividades Henrianas (1%wt) de oxígeno y azufre en el metal (medibles)."
   ]
  },
  {
   "cell_type": "markdown",
   "metadata": {},
   "source": [
    "**Definición formal**"
   ]
  },
  {
   "cell_type": "markdown",
   "metadata": {},
   "source": [
    "La definición de la capacidad de azufre modificada se obtiene al reacomodar los términos en la constante de equilibrio de la Reacción 1.2:\n"
   ]
  },
  {
   "cell_type": "markdown",
   "metadata": {},
   "source": [
    "\n",
    "\n",
    "$$ C_S' = \\underbrace{K_{1.2} \\frac{a_{O^{2-}}}{f_{S^{2-}}}}_{no \\, medible} = \\underbrace{\\left(\\%S\\right) \\frac{\\left[h_O\\right]}{\\left[h_S\\right]}}_{medible} $$\n",
    "\n",
    "- La actividad del ión sulfuro en la escoria está dada por: $a_{S^{2-}} = f_{S^{2-}} \\left(\\%S\\right)_{slag}$. \n",
    "\n",
    "- Las actividades de azufre y oxígeno en el metal están dadas por: $h_S = f_S [\\%S]$, $h_O = f_O [\\%O]$."
   ]
  },
  {
   "cell_type": "markdown",
   "metadata": {},
   "source": [
    "## 1.3 Comparación de distintas definiciones de capacidad de sulfuro"
   ]
  },
  {
   "cell_type": "markdown",
   "metadata": {},
   "source": [
    "### 1.3.1 Relación entre Cs y Cs'"
   ]
  },
  {
   "cell_type": "markdown",
   "metadata": {},
   "source": [
    "Para poder utilizar el concepto de capacidad de sulfuro y determinar el poder desulfurante de una escoria que se utiliza para refinar un metal, es necesario encontrar la relación que existe entre $C_S$, que se determinó mediante experimentos de equilibrio de escorias fundidas con una mezcla de gases; y $C_S'$, que representa las condiciones de procesamiento del metal."
   ]
  },
  {
   "cell_type": "markdown",
   "metadata": {},
   "source": [
    "**Reacción de interés**"
   ]
  },
  {
   "cell_type": "markdown",
   "metadata": {},
   "source": [
    "La reacción combinada de disolución de oxígeno y azufre en el baño esta dada por:"
   ]
  },
  {
   "cell_type": "markdown",
   "metadata": {},
   "source": [
    "$$\\left[S\\right] + \\frac{1}{2} \\left\\{O_2\\right\\} = \\frac{1}{2} \\left\\{S_2\\right\\} + \\left[O\\right] \\quad \\quad \\mathrm{Reac.\\,1.3}$$\n",
    "\n",
    "$$K_{1.3} = \\frac{\\left[h_o\\right]}{\\left[h_s\\right]} \\left(\\frac{p_{S_2}}{p_{O_2}}\\right)^{1/2}$$\n",
    "\n",
    "\n"
   ]
  },
  {
   "cell_type": "markdown",
   "metadata": {},
   "source": [
    "Al reacomodar los términos se obtiene una expresión para el cociente de actividades de oxígeno y azufre en el metal:\n",
    "\n",
    "\n",
    "$$\\frac{\\left[h_o\\right]}{\\left[h_s\\right]}  =  \\left(\\frac{p_{O_2}}{p_{S_2}}\\right)^{1/2} K_{1.3}$$\n"
   ]
  },
  {
   "cell_type": "markdown",
   "metadata": {},
   "source": [
    "**Definición formal**"
   ]
  },
  {
   "cell_type": "markdown",
   "metadata": {},
   "source": [
    "Se consideran las definiciones de $C_S$ y $C_S'$:"
   ]
  },
  {
   "cell_type": "markdown",
   "metadata": {},
   "source": [
    "\n",
    "$$ C_S = \\left(\\%S\\right) \\left(\\frac{p_{O_2}}{p_{S_2}}\\right)^{1/2} $$\n",
    "\n",
    "$$ C_S' = \\left(\\%S\\right) \\frac{\\left[h_O\\right]}{\\left[h_S\\right]} $$"
   ]
  },
  {
   "cell_type": "markdown",
   "metadata": {},
   "source": [
    "Sustituyendo la expresión para $\\frac{h_O}{h_S}$ obtenida previamente en la definición de $C_S'$, se tiene:\n",
    "\n",
    "$$ C_S' = \\underbrace{\\left(\\%S\\right)  \\left(\\frac{p_{O_2}}{p_{S_2}}\\right)^{1/2}}_{C_S} K_{1.3}$$\n",
    "\n",
    "$$ \\frac{C_S'}{C_S} = K_{1.3}$$\n"
   ]
  },
  {
   "cell_type": "markdown",
   "metadata": {},
   "source": [
    "Aplicando logarítmos a la ecuación, se obtiene:\n",
    "\n",
    "$$\\log C_S' - \\log C_S = log K_{1.3}$$\n",
    "\n",
    "$$\\log C_S' = \\log C_S + log K_{1.3}$$"
   ]
  },
  {
   "cell_type": "markdown",
   "metadata": {},
   "source": [
    "De acuerdo con [Andersson, Jönsson & Nzotta](https://www.jstage.jst.go.jp/article/isijinternational1989/39/11/39_11_1140/_pdf), el valor de la constante de equilibrio para la reacción tiene el valor:\n",
    "\n",
    "$$\\log K_{1.3} = -\\frac{935}{T} + 1.375$$"
   ]
  },
  {
   "cell_type": "code",
   "execution_count": 2,
   "metadata": {},
   "outputs": [],
   "source": [
    "def logK13(T):\n",
    "    return -935.0/T + 1.375"
   ]
  },
  {
   "cell_type": "markdown",
   "metadata": {},
   "source": [
    "### 1.3.2 Comparación gráfica"
   ]
  },
  {
   "cell_type": "code",
   "execution_count": 3,
   "metadata": {},
   "outputs": [
    {
     "data": {
      "image/png": "[encoded data removed]",
      "text/plain": [
       "<Figure size 400x300 with 1 Axes>"
      ]
     },
     "metadata": {},
     "output_type": "display_data"
    }
   ],
   "source": [
    "fig, ax = plt.subplots(figsize=(4, 3))\n",
    "\n",
    "# cálculo del cociente\n",
    "TC = np.linspace(1300, 1700, 10)\n",
    "TK = TC + 273.15\n",
    "ratio = np.power(10, desulf.logK13(TK))\n",
    "\n",
    "# gráfico\n",
    "ax.plot(TC, ratio)\n",
    "ax.set_xlabel(\"Temperatura [°C]\")\n",
    "ax.set_ylabel(r\"$C_S' \\, / C_S$\")\n",
    "ax.grid(ls='--', color='lightgray')\n",
    "\n",
    "plt.show()"
   ]
  },
  {
   "cell_type": "markdown",
   "metadata": {},
   "source": [
    "## 1.4 Referencias"
   ]
  },
  {
   "cell_type": "markdown",
   "metadata": {},
   "source": [
    "[Finchan, C. J. & Richardson F. D (1954)](https://doi.org/10.1098/rspa.1954.0099)  \n",
    "The behaviour of sulphur in silicate and aluminate melts  \n",
    "Proceedings of the Royal Society London A22340–62\n",
    "\n",
    "\n",
    "[Andersson, M.A., Jönsson, P. G., & Nzotta, M. M. (1999)](https://www.jstage.jst.go.jp/article/isijinternational1989/39/11/39_11_1140/_pdf)  \n",
    "Application of the sulphide capacity concept on high-basicity ladle slags used in bearing-steel production.  \n",
    "ISIJ international, 39(11), 1140-1149."
   ]
  }
 ],
 "metadata": {
  "kernelspec": {
   "display_name": "Python 3",
   "language": "python",
   "name": "python3"
  },
  "language_info": {
   "codemirror_mode": {
    "name": "ipython",
    "version": 3
   },
   "file_extension": ".py",
   "mimetype": "text/x-python",
   "name": "python",
   "nbconvert_exporter": "python",
   "pygments_lexer": "ipython3",
   "version": "3.10.12"
  }
 },
 "nbformat": 4,
 "nbformat_minor": 2
}
